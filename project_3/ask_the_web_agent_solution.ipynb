{
 "cells": [
  {
   "cell_type": "markdown",
   "id": "6f7fe8ac",
   "metadata": {},
   "source": [
    "# Project 3: **Ask‑the‑Web Agent**\n",
    "\n",
    "Welcome to Project 3! In this project, you will learn how to use tool‑calling LLMs, extend them with custom tools, and build a simplified *Perplexity‑style* agent that answers questions by searching the web."
   ]
  },
  {
   "cell_type": "markdown",
   "id": "3d4311a6",
   "metadata": {},
   "source": [
    "## Learning Objectives  \n",
    "* Understand why tool calling is useful and how LLMs can invoke external tools.\n",
    "* Implement a minimal loop that parses the LLM's output and executes a Python function.\n",
    "* See how *function schemas* (docstrings and type hints) let us scale to many tools.\n",
    "* Use **LangChain** to get function‑calling capability for free (ReAct reasoning, memory, multi‑step planning).\n",
    "* Combine LLM with a web‑search tool to build a simple ask‑the‑web agent."
   ]
  },
  {
   "cell_type": "markdown",
   "id": "82f16864",
   "metadata": {},
   "source": [
    "## Roadmap\n",
    "1. Environment setup\n",
    "2. Write simple tools and connect them to an LLM\n",
    "3. Standardize tool calling by writing `to_schema`\n",
    "4. Use LangChain to augment an LLM with your tools\n",
    "5. Build a Perplexity‑style web‑search agent\n",
    "6. (Optional) A minimal backend and frontend UI"
   ]
  },
  {
   "cell_type": "markdown",
   "id": "aeae51d0",
   "metadata": {
    "vscode": {
     "languageId": "shellscript"
    }
   },
   "source": [
    "# 1- Environment setup\n",
    "\n",
    "## 1.1- Conda environment\n",
    "\n",
    "Before we start coding, you need a reproducible setup. Open a terminal in the same directory as this notebook and run:\n",
    "\n",
    "```bash\n",
    "# Create and activate the conda environment\n",
    "conda env create -f environment.yml && conda activate web_agent\n",
    "\n",
    "# Register this environment as a Jupyter kernel\n",
    "python -m ipykernel install --user --name=web_agent --display-name \"web_agent\"\n",
    "```\n",
    "Once this is done, you can select “web_agent” from the Kernel → Change Kernel menu in Jupyter or VS Code.\n",
    "\n",
    "\n",
    "> Behind the scenes:\n",
    "> * Conda reads `environment.yml`, resolves the pinned dependencies, creates an isolated environment named `web_agent`, and activates it.\n",
    "> * `ollama pull` downloads the model so you can run it locally without API calls.\n",
    "\n",
    "\n",
    "## 1.2 Ollama setup\n",
    "\n",
    "In this project, we start with `gemma3-1B` because it is lightweight and runs on most machines. You can try other smaller or larger LLMs such as `mistral:7b`, `phi3:mini`, or `llama3.2:1b` to compare performance. Explore available models here: https://ollama.com/library\n",
    "\n",
    "```bash\n",
    "ollama pull gemma3:1b\n",
    "```\n",
    "\n",
    "`ollama pull` downloads the model so you can run it locally without API calls.\n"
   ]
  },
  {
   "cell_type": "markdown",
   "id": "1c27158f",
   "metadata": {},
   "source": [
    "## 2- Tool Calling\n",
    "\n",
    "LLMs are strong at answering questions, but they cannot directly access external data such as live web results, APIs, or computations. In real applications, agents rarely rely only on their internal knowledge. They need to query APIs, retrieve data, or perform calculations to stay accurate and useful. Tool calling bridges this gap by allowing the LLM to request actions from the outside world.\n",
    "\n",
    "\n",
    "We describe each tool’s interface in the model’s prompt, defining what it does and what arguments it expects. When the model decides that a tool is needed, it emits a structured output like: `TOOL_CALL: {\"name\": \"get_current_weather\", \"args\": {\"city\": \"San Francisco\"}}`. Your code will detect this output, execute the corresponding function, and feed the result back to the LLM so the conversation continues.\n",
    "\n",
    "In this section, you will implement a simple `get_current_weather` function and teach the `gemma3` model how to use it when required in four steps:\n",
    "1. Implement the tool\n",
    "2. Create the instructions for the LLM\n",
    "3. Call the LLM with the prompt\n",
    "4. Parse the LLM output and call the tool"
   ]
  },
  {
   "cell_type": "code",
   "execution_count": 18,
   "id": "4a536f58",
   "metadata": {},
   "outputs": [],
   "source": [
    "# ---------------------------------------------------------\n",
    "# Step 1: Implement the tool\n",
    "# ---------------------------------------------------------\n",
    "# Your goal: give the model a way to access weather information.\n",
    "# You can either:\n",
    "#   (a) Call a real weather API (for example, OpenWeatherMap), or\n",
    "#   (b) Create a dummy function that returns a fixed response (e.g., \"It is 23°C and sunny in San Francisco.\")\n",
    "#\n",
    "# Requirements:\n",
    "#   • The function should be named `get_current_weather`\n",
    "#   • It should take two arguments:\n",
    "#         - city: str\n",
    "#         - unit: str = \"celsius\"\n",
    "#   • Return a short, human-readable sentence describing the weather.\n",
    "#\n",
    "# Example expected behavior:\n",
    "#   get_current_weather(\"San Francisco\") → \"It is 23°C and sunny in San Francisco.\"\n",
    "#\n",
    "def get_current_weather(city: str, unit: str = \"celsius\") -> str:\n",
    "    \"\"\"Return the current weather as a human-readable sentence.\"\"\"\n",
    "    return f\"It is 23°{unit[0].upper()} and sunny in {city}.\" # no real API call to stay offline-friendly"
   ]
  },
  {
   "cell_type": "code",
   "execution_count": 8,
   "id": "0a43c3e4",
   "metadata": {},
   "outputs": [],
   "source": [
    "# ---------------------------------------------------------\n",
    "# Step 2: Create the prompt for the LLM to call tools\n",
    "# ---------------------------------------------------------\n",
    "# Goal:\n",
    "#   Build the system and user prompts that instruct the model when and how\n",
    "#   to use your tool (`get_current_weather`).\n",
    "#\n",
    "# What to include:\n",
    "#   • A SYSTEM_PROMPT that tells the model about the tool use and describe the tool\n",
    "#   • A USER_QUESTION with a user query that should trigger the tool.\n",
    "#       Example: \"What is the weather in San Diego today?\"\n",
    "\n",
    "# Try experimenting with different system and user prompts\n",
    "# ---------------------------------------------------------\n",
    "\n",
    "SYSTEM_PROMPT = (\n",
    "    \"You are an assistant that can call tools. \"\n",
    "    \"When the user asks something requiring fresh data, respond **only** with a JSON like: \"\n",
    "    'TOOL_CALL:{\"name\": <tool_name>, \"args\": { ... }}.'\n",
    ")\n",
    "\n",
    "TOOLS_SPEC = \"\"\"\n",
    "You can call exactly one tool:\n",
    "- name: get_current_weather\n",
    "  description: Return the current weather for a city.\n",
    "  arguments:\n",
    "    city: string\n",
    "    unit: \"celsius\" | \"fahrenheit\"  (optional, default \"celsius\")\n",
    "\"\"\"\n",
    "\n",
    "USER_QUESTION = \"What is the weather in San Diego today?\"\n",
    "# USER_QUESTION = \"What is your name?\""
   ]
  },
  {
   "cell_type": "markdown",
   "id": "8eebb062",
   "metadata": {},
   "source": [
    "Now that you have defined a tool and shown the model how to use it, the next step is to call the LLM using your prompt.\n",
    "\n",
    "Start the **Ollama** server in a terminal with `ollama serve`. This launches a local API endpoint that listens for LLM requests. Once the server is running, return to the notebook and in the next cell send a query to the model.\n"
   ]
  },
  {
   "cell_type": "code",
   "execution_count": null,
   "id": "027cb75c",
   "metadata": {},
   "outputs": [
    {
     "name": "stdout",
     "output_type": "stream",
     "text": [
      "\n",
      " Model output:\n",
      " TOOL_CALL:{\"name\": \"get_current_weather\", \"args\": {\"city\": \"San Diego\"}}\n"
     ]
    }
   ],
   "source": [
    "# ---------------------------------------------------------\n",
    "# Step 3: Call the LLM with your prompt\n",
    "# ---------------------------------------------------------\n",
    "# Task:\n",
    "#   Send SYSTEM_PROMPT + USER_QUESTION to the model.\n",
    "#\n",
    "# Steps:\n",
    "#   1. Use the Ollama client to create a chat completion. You may find some examples here: https://platform.openai.com/docs/guides/text\n",
    "#   2. Print the raw response.\n",
    "#\n",
    "# Expected:\n",
    "#   The model should return something like:\n",
    "#   TOOL_CALL: {\"name\": \"get_current_weather\", \"args\": {\"city\": \"San Diego\"}}\n",
    "# ---------------------------------------------------------\n",
    "from openai import OpenAI\n",
    "\n",
    "client = OpenAI(api_key = \"ollama\", base_url = \"http://localhost:11434/v1\")\n",
    "\n",
    "MODEL = \"gemma3:1b\"\n",
    "# MODEL = \"llama3.2:3b\"\n",
    "\n",
    "response = client.chat.completions.create(\n",
    "    model=MODEL,\n",
    "    messages=[\n",
    "        {\"role\": \"system\", \"content\": SYSTEM_PROMPT + \"\\n\\n\" + TOOLS_SPEC},\n",
    "        {\"role\": \"user\", \"content\": USER_QUESTION},\n",
    "    ],\n",
    "    temperature=0,\n",
    ")\n",
    "\n",
    "raw = response.choices[0].message.content\n",
    "print(\"\\n Model output:\\n\", raw)"
   ]
  },
  {
   "cell_type": "code",
   "execution_count": 16,
   "id": "94aeb4d8",
   "metadata": {},
   "outputs": [
    {
     "name": "stdout",
     "output_type": "stream",
     "text": [
      "\n",
      " Calling tool `get_current_weather` with args {'city': 'San Diego'}\n",
      "Result: It is 23°C and sunny in San Diego.\n"
     ]
    }
   ],
   "source": [
    "# ---------------------------------------------------------\n",
    "# Step 4: Parse the LLM output and call the tool\n",
    "# ---------------------------------------------------------\n",
    "# Task:\n",
    "#   Detect when the model requests a tool, extract its name and arguments,\n",
    "#   and execute the corresponding function.\n",
    "#\n",
    "# Steps:\n",
    "#   1. Search for the text pattern \"TOOL_CALL:{...}\" in the model output.\n",
    "#   2. Parse the JSON inside it to get the tool name and args.\n",
    "#   3. Call the matching function (e.g., get_current_weather).\n",
    "#\n",
    "# Expected:\n",
    "#   You should see a line like:\n",
    "#       Calling tool `get_current_weather` with args {'city': 'San Diego'}\n",
    "#       Result: It is 23°C and sunny in San Diego.\n",
    "# ---------------------------------------------------------\n",
    "\n",
    "import re, json\n",
    "\n",
    "pattern = r'TOOL_CALL:\\s*({.*})'\n",
    "match = re.search(pattern, raw, flags=re.DOTALL)\n",
    "if match:\n",
    "    call_json = json.loads(match.group(1))\n",
    "    fn_name   = call_json[\"name\"]\n",
    "    args      = call_json.get(\"args\", {})\n",
    "    print(f\"\\n Calling tool `{fn_name}` with args {args}\")\n",
    "    result = globals()[fn_name](**args)\n",
    "    print(\"Result:\", result)\n",
    "else:\n",
    "    print(\"No tool call detected\")\n"
   ]
  },
  {
   "cell_type": "markdown",
   "id": "9be26661",
   "metadata": {},
   "source": [
    "# 3- Standadize tool calling\n",
    "\n",
    "So far, we handled tool calling manually by writing one regex and one hard-coded function. This approach does not scale if we want to add more tools. Adding more tools would mean more `if/else` blocks and manual edits to the `TOOL_SPEC` prompt.\n",
    "\n",
    "To make the system flexible, we can standardize tool definitions by automatically reading each function’s signature, converting it to a JSON schema, and passing that schema to the LLM. This way, the LLM can dynamically understand which tools exist and how to call them without requiring manual updates to prompts or conditional logic.\n",
    "\n",
    "Next, you will implement a small helper that extracts metadata from functions and builds a schema for each tool."
   ]
  },
  {
   "cell_type": "code",
   "execution_count": 20,
   "id": "ce911b28",
   "metadata": {},
   "outputs": [
    {
     "name": "stdout",
     "output_type": "stream",
     "text": [
      "{'description': 'Return the current weather as a human-readable sentence.',\n",
      " 'name': 'get_current_weather',\n",
      " 'parameters': {'properties': {'city': {'description': 'Argument city',\n",
      "                                        'type': 'string'},\n",
      "                               'unit': {'description': 'Argument unit',\n",
      "                                        'type': 'string'}},\n",
      "                'required': ['city'],\n",
      "                'type': 'object'}}\n"
     ]
    }
   ],
   "source": [
    "# ---------------------------------------------------------\n",
    "# Generate a JSON schema for a tool automatically\n",
    "# ---------------------------------------------------------\n",
    "#\n",
    "# Steps:\n",
    "#   1. Use `inspect.signature` to get function parameters.\n",
    "#   2. For each argument, record its name, type, and description.\n",
    "#   3. Build a schema containing:\n",
    "#   4. Test your helper on `get_current_weather` and print the result.\n",
    "#\n",
    "# Expected:\n",
    "#   A dictionary describing the tool (its name, args, and types).\n",
    "# ---------------------------------------------------------\n",
    "\n",
    "from pprint import pprint\n",
    "import inspect\n",
    "\n",
    "\n",
    "def to_schema(fn):\n",
    "    sig = inspect.signature(fn)\n",
    "    props = {\n",
    "        name: {\n",
    "            'type': 'string' if param.annotation is str else 'number',\n",
    "            'description': f\"Argument {name}\"\n",
    "        }\n",
    "        for name, param in sig.parameters.items()\n",
    "    }\n",
    "    return {\n",
    "        'name': fn.__name__,\n",
    "        'description': (fn.__doc__ or '').strip().split('\\n')[0],\n",
    "        'parameters': {\n",
    "            'type': 'object',\n",
    "            'properties': props,\n",
    "            'required': [n for n, p in sig.parameters.items() if p.default is inspect._empty]\n",
    "        }\n",
    "    }\n",
    "\n",
    "tool_schema = to_schema(get_current_weather)\n",
    "pprint(tool_schema)"
   ]
  },
  {
   "cell_type": "code",
   "execution_count": null,
   "id": "c1163f18",
   "metadata": {},
   "outputs": [
    {
     "name": "stdout",
     "output_type": "stream",
     "text": [
      "TOOL_CALL:{\"name\": \"get_current_weather\", \"args\": {\"city\": \"Boston\", \"unit\": \"\"}}; TOOL_CALL:{\"name\": \"get_current_weather\", \"args\": {\"city\": \"Seattle\", \"unit\": \"\"}}\n"
     ]
    }
   ],
   "source": [
    "# ---------------------------------------------------------\n",
    "# Provide the tool schema to the model\n",
    "# ---------------------------------------------------------\n",
    "# Goal:\n",
    "#   Give the model a \"menu\" of available tools so it can choose\n",
    "#   which one to call based on the user’s question.\n",
    "#\n",
    "# Steps:\n",
    "#   1. Add an extra system message (e.g., name=\"tool_spec\")\n",
    "#      containing the JSON schema(s) of your tools.\n",
    "#   2. Include SYSTEM_PROMPT and the user question as before.\n",
    "#   3. Send the messages to the model (e.g., gemma3:1b).\n",
    "#   4. Print the raw model output to see if it picks the right tool.\n",
    "#\n",
    "# Expected:\n",
    "#   The model should produce a structured TOOL_CALL indicating\n",
    "#   which tool to use and with what arguments.\n",
    "# ---------------------------------------------------------\n",
    "\n",
    "messages=[\n",
    "    {\"role\": \"system\", \"content\": SYSTEM_PROMPT},\n",
    "    {\"role\": \"system\", \"name\": \"tool_spec\", \"content\": json.dumps([tool_schema])},\n",
    "    {\"role\": \"user\", \"content\": \"Is Boston warmer today or Seattle?\"}\n",
    "]\n",
    "MODEL = \"gemma3:1b\" # doesn't produce two calls\n",
    "# MODEL = \"llama3.2:3b\" # produces two calls\n",
    "raw2 = client.chat.completions.create(\n",
    "    model=MODEL, \n",
    "    messages=messages,\n",
    "    temperature=0.5,\n",
    ")\n",
    "print(raw2.choices[0].message.content)"
   ]
  },
  {
   "cell_type": "markdown",
   "id": "ba8ec86e",
   "metadata": {},
   "source": [
    "## 4- LangChain for Tool Calling\n",
    "So far, you built a simple tool-calling pipeline manually. While this helps you understand the logic, it does not scale well when working with multiple tools, complex parsing, or multi-step reasoning.\n",
    "\n",
    "LangChain simplifies this process. You only need to declare your tools, and its *Agent* abstraction handles when to call a tool, how to use it, and how to continue reasoning afterward.\n",
    "\n",
    "In this section, you will use the **ReAct** Agent (Reasoning + Acting). It alternates between reasoning steps and tool use, producing clearer and more reliable results. We will explore reasoning-focused models in more depth next week.\n",
    "\n",
    "The following links might be helpful:\n",
    "- https://python.langchain.com/api_reference/langchain/agents/langchain.agents.initialize.initialize_agent.html\n",
    "- https://python.langchain.com/docs/integrations/tools/\n",
    "- https://python.langchain.com/docs/integrations/chat/ollama/\n",
    "- https://python.langchain.com/api_reference/core/language_models/langchain_core.language_models.llms.LLM.html"
   ]
  },
  {
   "cell_type": "code",
   "execution_count": 45,
   "id": "c609d97c",
   "metadata": {},
   "outputs": [],
   "source": [
    "# ---------------------------------------------------------\n",
    "# Step 1: Define tools for LangChain\n",
    "# ---------------------------------------------------------\n",
    "# Goal:\n",
    "#   Convert your weather function into a LangChain-compatible tool.\n",
    "#\n",
    "# Steps:\n",
    "#   1. Import `tool` from `langchain.tools`.\n",
    "#   2. Keep your existing `get_current_weather` helper as before.\n",
    "#   3. Create a new function (e.g., get_weather) that calls it.\n",
    "#   4. Add the `@tool` decorator so LangChain can register it automatically.\n",
    "#\n",
    "# Notes:\n",
    "#   • The decorator converts your Python function into a standardized tool object.\n",
    "#   • Start with keeping the logic simple and offline-friendly.\n",
    "\n",
    "from langchain.tools import tool\n",
    "\n",
    "def get_current_weather(city: str, unit: str = \"celsius\") -> str:\n",
    "    \"\"\"Return the current weather as a human-readable sentence.\"\"\"\n",
    "    return f\"It is 23°{unit[0].upper()} and sunny in {city}.\" # no real API call to stay offline-friendly\n",
    "\n",
    "@tool\n",
    "def get_weather(city: str) -> str:\n",
    "    \"\"\"Get current weather and return results\"\"\"\n",
    "    return get_current_weather(city)"
   ]
  },
  {
   "cell_type": "code",
   "execution_count": null,
   "id": "9552348d",
   "metadata": {},
   "outputs": [
    {
     "name": "stdout",
     "output_type": "stream",
     "text": [
      "\n",
      "\n",
      "\u001b[1m> Entering new AgentExecutor chain...\u001b[0m\n",
      "\u001b[32;1m\u001b[1;3mI need to find out the weather in Seattle to determine if I need an umbrella.\n",
      "Action: get_weather\n",
      "Action Input: city=Seattle\u001b[0m\n",
      "Observation: \u001b[36;1m\u001b[1;3mIt is 23°C and sunny in city=Seattle.\u001b[0m\n",
      "Thought:\u001b[32;1m\u001b[1;3mThe weather in Seattle is sunny, so I don't need an umbrella.\n",
      "Final Answer: No, you don't need an umbrella in Seattle today.\u001b[0m\n",
      "\n",
      "\u001b[1m> Finished chain.\u001b[0m\n"
     ]
    },
    {
     "data": {
      "text/plain": [
       "{'input': 'Do I need an umbrella in Seattle today?',\n",
       " 'output': \"No, you don't need an umbrella in Seattle today.\"}"
      ]
     },
     "execution_count": 46,
     "metadata": {},
     "output_type": "execute_result"
    }
   ],
   "source": [
    "# ---------------------------------------------------------\n",
    "# Step 2: Initialize the LangChain Agent\n",
    "# ---------------------------------------------------------\n",
    "# Goal:\n",
    "#   Connect your tool to a local LLM using LangChain’s ReAct-style agent.\n",
    "#\n",
    "# Steps:\n",
    "#   1. Import the required classes:\n",
    "#        - ChatOllama (for local model access)\n",
    "#        - initialize_agent, Tool, AgentType\n",
    "#   2. Create an LLM instance (e.g., model=\"gemma3:1b\", temperature=0).\n",
    "#   3. Add your tool(s) to a list\n",
    "#   4. Initialize the agent using initialize_agent\n",
    "#   5. Test the agent with a natural question (e.g., \"Do I need an umbrella in Seattle today?\").\n",
    "#\n",
    "# Expected:\n",
    "#   The model should reason through the question, call your tool,\n",
    "#   and produce a final answer in plain language.\n",
    "# ---------------------------------------------------------\n",
    "\n",
    "from langchain_community.chat_models import ChatOllama\n",
    "from langchain.agents import initialize_agent, Tool, AgentType\n",
    "\n",
    "MODEL = \"gemma3:1b\"\n",
    "# MODEL = \"llama3.2:3b\"\n",
    "# MODEL = \"gemma3\"\n",
    "# MODEL = \"llama2:7b\"\n",
    "llm = ChatOllama(model=MODEL, temperature=0)\n",
    "tools = [get_weather]\n",
    "\n",
    "agent = initialize_agent(\n",
    "    tools,\n",
    "    llm,\n",
    "    agent=AgentType.ZERO_SHOT_REACT_DESCRIPTION,\n",
    "    verbose=True,\n",
    ")\n",
    "\n",
    "agent.invoke({\"input\": \"Do I need an umbrella in Seattle today?\"})\n"
   ]
  },
  {
   "cell_type": "markdown",
   "id": "3ed9e8fb",
   "metadata": {},
   "source": [
    "### What just happened?\n",
    "\n",
    "The console log displays the **Thought → Action → Observation → …** loop until the agent produces its final answer. Because `verbose=True`, LangChain prints each intermediate reasoning step.\n",
    "\n",
    "If you want to add more tools, simply append them to the tools list. LangChain will handle argument validation, schema generation, and tool-calling logic automatically."
   ]
  },
  {
   "cell_type": "markdown",
   "metadata": {},
   "source": [
    "\n",
    "## 5- Perplexity‑Style Web Search\n",
    "Agents become much more powerful when they can look up real information on the web instead of relying only on their internal knowledge.\n",
    "\n",
    "In this section, you will combine everything you have learned to build a simple Ask-the-Web Agent. You will integrate a web search tool (DuckDuckGo) and make it available to the agent using the same tool-calling approach as before.\n",
    "\n",
    "This will let the model retrieve fresh results, reason over them, and generate an informed answer—similar to how Perplexity works.\n",
    "\n",
    "You may find some examples from the following links:\n",
    "- https://pypi.org/project/duckduckgo-search/"
   ]
  },
  {
   "cell_type": "code",
   "execution_count": 47,
   "metadata": {},
   "outputs": [],
   "source": [
    "# ---------------------------------------------------------\n",
    "# Step 1: Add a web search tool\n",
    "# ---------------------------------------------------------\n",
    "# Goal:\n",
    "#   Create a tool that lets the agent search the web and return results.\n",
    "#\n",
    "# Steps:\n",
    "#   1. Use DuckDuckGo for quick, open web searches.\n",
    "#   2. Write a helper function (e.g., search_web) that:\n",
    "#        • Takes a query string\n",
    "#        • Uses DDGS to fetch top results (titles + URLs)\n",
    "#        • Returns them as a formatted string\n",
    "#   3. Wrap it with the @tool decorator to make it available to LangChain.\n",
    "\n",
    "\n",
    "from ddgs import DDGS\n",
    "from langchain.tools import tool\n",
    "\n",
    "def search_web(query: str, max_results: int = 10) -> str:\n",
    "    \"\"\"Return the top `max_results` web results for `query` as a single\n",
    "    formatted string. Uses DuckDuckGo's unofficial API.\"\"\"\n",
    "    results = []\n",
    "    with DDGS() as ddgs:\n",
    "        for r in ddgs.text(query, max_results=max_results):\n",
    "            results.append(f\"- {r['title']} — {r['href']}\")\n",
    "    return \"\\n\".join(results)\n",
    "\n",
    "@tool\n",
    "def web_search(query: str) -> str:\n",
    "    \"\"\"Search the web for `query` and return concise results\"\"\"\n",
    "    return search_web(query)\n"
   ]
  },
  {
   "cell_type": "code",
   "execution_count": 50,
   "metadata": {},
   "outputs": [],
   "source": [
    "\n",
    "# ---------------------------------------------------------\n",
    "# Step 2: Initialize the web-search agent\n",
    "# ---------------------------------------------------------\n",
    "# Goal:\n",
    "#   Connect your `web_search` tool to a language model\n",
    "#   so the agent can search and reason over real data.\n",
    "#\n",
    "# Steps:\n",
    "#   1. Import `initialize_agent` and `AgentType`.\n",
    "#   2. Create an LLM (e.g., ChatOllama).\n",
    "#   3. Add your `web_search` tool to the tools list.\n",
    "#   4. Initialize the agent using: initialize_agent\n",
    "#   5. Keep `verbose=True` to observe reasoning steps.\n",
    "#\n",
    "# Expected:\n",
    "#   The agent should be ready to accept user queries\n",
    "#   and use your web search tool when needed.\n",
    "# ---------------------------------------------------------\n",
    "from langchain.agents import initialize_agent, AgentType\n",
    "from langchain.llms import OpenAI\n",
    "\n",
    "MODEL = \"gemma3\"\n",
    "llm = ChatOllama(model=MODEL, temperature=0)\n",
    "tools = [web_search]\n",
    "agent = initialize_agent(\n",
    "    tools, llm, agent=AgentType.ZERO_SHOT_REACT_DESCRIPTION, verbose=True\n",
    ")\n"
   ]
  },
  {
   "cell_type": "markdown",
   "metadata": {},
   "source": [
    "\n",
    "Let’s see the agent's output in action with a real example.\n"
   ]
  },
  {
   "cell_type": "code",
   "execution_count": 51,
   "metadata": {},
   "outputs": [
    {
     "name": "stdout",
     "output_type": "stream",
     "text": [
      "\n",
      "\n",
      "\u001b[1m> Entering new AgentExecutor chain...\u001b[0m\n",
      "\u001b[32;1m\u001b[1;3mI need to find out what's happening in San Francisco this week. I can use a web search to get the latest information on events.\n",
      "Action: web_search\n",
      "Action Input: \"current events San Francisco this week\"\u001b[0m\n",
      "Observation: \u001b[36;1m\u001b[1;3m- San Francisco Chronicle - Bay Area news, sports, tech, food — https://www.sfchronicle.com/\n",
      "- CBS Bay Area - Breaking Local News, First Alert Weather & Sports — https://www.cbsnews.com/sanfrancisco/\n",
      "- Local San Francisco News | SF Bay Area News | SFist — https://sfist.com/news/\n",
      "- News — Breaking Bay Area news, U.S. and World News, California News — https://www.sfgate.com/news/\n",
      "- ABC7 News - KGO Bay Area and San Francisco News — https://abc7news.com/\n",
      "- Things to Do in San Francisco, CA This Week - Events & Activities | Eventbrite — https://www.eventbrite.com/d/ca--san-francisco/events--this-week/\n",
      "- SFist - San Francisco News, Restaurants, Events, & Sports — https://sfist.com/\n",
      "- San Francisco - latest news, breaking stories and comment - The Independent — https://www.the-independent.com/topic/san-francisco\n",
      "- San Francisco, CA Patch - Breaking News, Local News, Events, Schools, Weather, Sports and Shopping — https://patch.com/california/san-francisco\n",
      "- NBC Bay Area – San Francisco news, weather, breaking news — https://www.nbcbayarea.com/\u001b[0m\n",
      "Thought:\u001b[32;1m\u001b[1;3mI have a lot of resources for current events in San Francisco. I can summarize the key events from these sources.\n",
      "Final Answer: I can provide a summary of current events in San Francisco this week, but I need to access and synthesize the information from the provided links. Since I cannot directly browse the web, I will list the sources and you can visit them to find the most up-to-date information. Here are the sources:\n",
      "\n",
      "*   **San Francisco Chronicle:** [https://www.sfchronicle.com/](https://www.sfchronicle.com/)\n",
      "*   **CBS Bay Area:** [https://www.cbsnews.com/sanfrancisco/](https://www.cbsnews.com/sanfrancisco/)\n",
      "*   **SFist:** [https://sfist.com/news/](https://sfist.com/news/)\n",
      "*   **SFGate:** [https://www.sfgate.com/news/](https://www.sfgate.com/news/)\n",
      "*   **ABC7 News:** [https://abc7news.com/](https://abc7news.com/)\n",
      "*   **Eventbrite:** [https://www.eventbrite.com/d/ca--san-francisco/events--this-week/](https://www.eventbrite.com/d/ca--san-francisco/events--this-week/)\n",
      "*   **The Independent:** [https://www.the-independent.com/topic/san-francisco](https://www.the-independent.com/topic/san-francisco)\n",
      "*   **Patch:** [https://patch.com/california/san-francisco](https://patch.com/california/san-francisco)\n",
      "*   **NBC Bay Area:** [https://www.nbcbayarea.com/](https://www.nbcbayarea.com/)\u001b[0m\n",
      "\n",
      "\u001b[1m> Finished chain.\u001b[0m\n"
     ]
    }
   ],
   "source": [
    "\n",
    "# ---------------------------------------------------------\n",
    "# Step 3: Test your Ask-the-Web agent\n",
    "# ---------------------------------------------------------\n",
    "# Goal:\n",
    "#   Verify that the agent can search the web and return\n",
    "#   a summarized answer based on real results.\n",
    "#\n",
    "# Steps:\n",
    "#   1. Ask a natural question that requires live information,\n",
    "#      for example: \"What are the current events in San Francisco this week?\"\n",
    "#   2. Call agent.\n",
    "#\n",
    "# Expected:\n",
    "#   The agent should call `web_search`, retrieve results,\n",
    "#   and generate a short summary response.\n",
    "# ---------------------------------------------------------\n",
    "try:\n",
    "    agent.invoke({\"input\": \"What are the current events in San Francisco this week?\"})\n",
    "except Exception as e:\n",
    "    print(e)\n",
    "\n"
   ]
  },
  {
   "cell_type": "markdown",
   "metadata": {},
   "source": [
    "\n",
    "## 6- A minimal UI\n",
    "This project includes a simple **React** front end that sends the user’s question to a FastAPI back end and streams the agent’s response in real time. To run the UI:\n",
    "\n",
    "1- Open a terminal and start the Ollama server: `ollama serve`.\n",
    "\n",
    "2- In a second terminal, navigate to the frontend folder and install dependencies:`npm install`.\n",
    "\n",
    "3- In the same terminal, navigate to the backend folder and start the FastAPI back‑end: `uvicorn app:app --reload --port 8000`\n",
    "\n",
    "4- Open a third terminal, navigate to the frontend folder, and start the React dev server: `npm run dev`\n",
    "\n",
    "5- Visit `http://localhost:5173/` in your browser.\n"
   ]
  },
  {
   "cell_type": "markdown",
   "metadata": {},
   "source": [
    "\n",
    "## 🎉 Congratulations!\n",
    "\n",
    "* You have built a **web‑enabled agent**: tool calling → JSON schema → LangChain ReAct → web search → simple UI.\n",
    "* Try adding more tools, such as news or finance APIs.\n",
    "* Experiment with multiple tools, different models, and measure accuracy vs. hallucination.\n",
    "\n",
    "\n",
    "👏 **Great job!** Take a moment to celebrate. The techniques you implemented here power many production agents and chatbots."
   ]
  }
 ],
 "metadata": {
  "kernelspec": {
   "display_name": "web_agent",
   "language": "python",
   "name": "python3"
  },
  "language_info": {
   "codemirror_mode": {
    "name": "ipython",
    "version": 3
   },
   "file_extension": ".py",
   "mimetype": "text/x-python",
   "name": "python",
   "nbconvert_exporter": "python",
   "pygments_lexer": "ipython3",
   "version": "3.11.13"
  }
 },
 "nbformat": 4,
 "nbformat_minor": 5
}

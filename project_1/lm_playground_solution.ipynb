{
  "cells": [
    {
      "cell_type": "markdown",
      "id": "fe523821",
      "metadata": {
        "id": "fe523821"
      },
      "source": [
        "\n",
        "# Project 1: Build an LLM Playground\n",
        "\n",
        "Welcome! In this project, you’ll learn foundations of large language models (LLMs). We’ll keep the code minimal and the explanations high‑level so that anyone who can run a Python cell can follow along.  \n",
        "\n",
        "We'll be using Google Colab for this project. Colab is a free, browser-based platform that lets you run Python code and machine learning models without installing anything on your local computer. Click the button below to open this notebook directly in Google Colab and get started!\n"
      ]
    },
    {
      "cell_type": "markdown",
      "id": "fdb8584e",
      "metadata": {
        "id": "fdb8584e"
      },
      "source": [
        "[![Open In Colab](https://colab.research.google.com/assets/colab-badge.svg)](https://colab.research.google.com/github/veeaar/rv-ai-eng-projects/blob/main/project_1/lm_playground_solution.ipynb)"
      ]
    },
    {
      "cell_type": "markdown",
      "id": "08e82492",
      "metadata": {
        "id": "08e82492"
      },
      "source": [
        "---\n",
        "## Learning Objectives  \n",
        "* **Tokenization** and how raw text is tokenized into a sequene of discrete tokens\n",
        "* Inspect **GPT2** and **Transformer architecture**\n",
        "* Loading pre-trained LLMs using **Hugging Face**\n",
        "* **Decoding strategies** to generate text from LLMs\n",
        "* Completion versus **intrusction fine-tuned** LLMs\n",
        "\n",
        "\n",
        "Let's get started!"
      ]
    },
    {
      "cell_type": "code",
      "execution_count": 1,
      "id": "1235110e",
      "metadata": {
        "colab": {
          "base_uri": "https://localhost:8080/"
        },
        "id": "1235110e",
        "outputId": "b0de1e27-58b4-4749-f0ed-bc7045fdcae8"
      },
      "outputs": [
        {
          "name": "stdout",
          "output_type": "stream",
          "text": [
            "torch 2.7.0+cpu | transformers 4.52.0\n"
          ]
        }
      ],
      "source": [
        "import torch, transformers, tiktoken\n",
        "print(\"torch\", torch.__version__, \"| transformers\", transformers.__version__)"
      ]
    },
    {
      "cell_type": "markdown",
      "id": "d4c1eb0b",
      "metadata": {
        "id": "d4c1eb0b"
      },
      "source": [
        "# 1 - Tokenization\n",
        "\n",
        "A neural network can’t digest raw text. They need **numbers**. Tokenization is the process of converting text into IDs. In this section, you'll learn how tokenization is implemented in practice.\n",
        "\n",
        "Tokenization methods generally fall into three categories:\n",
        "1. Word-level\n",
        "2. Character-level\n",
        "3. Subword-level"
      ]
    },
    {
      "cell_type": "markdown",
      "id": "1d234dc0",
      "metadata": {
        "id": "1d234dc0"
      },
      "source": [
        "### 1.1 - Word‑level tokenization\n",
        "\n",
        "Split text on whitespace and store each **word** as a token."
      ]
    },
    {
      "cell_type": "code",
      "execution_count": 2,
      "id": "d784a288",
      "metadata": {
        "colab": {
          "base_uri": "https://localhost:8080/"
        },
        "id": "d784a288",
        "outputId": "165c06bb-6fb6-4bbc-e748-82dd7f28f419"
      },
      "outputs": [
        {
          "name": "stdout",
          "output_type": "stream",
          "text": [
            "Vocabulary size: 21 words\n",
            "First 15 vocab entries: ['[PAD]', '[UNK]', 'brown', 'converts', 'dog', 'fox', 'jumps', 'language', 'large', 'lazy', 'models', 'next', 'numbers', 'over', 'predict']\n",
            "\n",
            "Input text : The brown unicorn jumps\n",
            "Token IDs  : [17, 2, 1, 6]\n",
            "Decoded    : the brown [UNK] jumps\n"
          ]
        }
      ],
      "source": [
        "# 1. Tiny corpus\n",
        "corpus = [\n",
        "    \"The quick brown fox jumps over the lazy dog\",\n",
        "    \"Tokenization converts text to numbers\",\n",
        "    \"Large language models predict the next token\"\n",
        "]\n",
        "\n",
        "# 2. Build the vocabulary\n",
        "PAD, UNK = \"[PAD]\", \"[UNK]\"\n",
        "words = set()\n",
        "for doc in corpus:\n",
        "    words.update(doc.lower().split())\n",
        "\n",
        "vocab = [PAD, UNK] + sorted(words)\n",
        "word2id = {w: i for i, w in enumerate(vocab)}\n",
        "id2word = {i: w for w, i in word2id.items()}\n",
        "\n",
        "print(f\"Vocabulary size: {len(vocab)} words\")\n",
        "print(\"First 15 vocab entries:\", vocab[:15])\n",
        "\n",
        "# 3. Encode / decode\n",
        "def encode(text):\n",
        "    return [word2id.get(w, word2id[UNK]) for w in text.lower().split()]\n",
        "\n",
        "def decode(ids):\n",
        "    return \" \".join(id2word[i] for i in ids if i != word2id[PAD])\n",
        "\n",
        "# 4. Demo\n",
        "sample = \"The brown unicorn jumps\"\n",
        "ids = encode(sample)\n",
        "recovered = decode(ids)\n",
        "\n",
        "print(\"\\nInput text :\", sample)\n",
        "print(\"Token IDs  :\", ids)\n",
        "print(\"Decoded    :\", recovered)\n"
      ]
    },
    {
      "cell_type": "markdown",
      "id": "0edab2c2",
      "metadata": {
        "id": "0edab2c2"
      },
      "source": [
        "Word-level tokenization has two major limitations:\n",
        "1. Large vocabulary size\n",
        "2. Out-of-vocabulary (OOV) issue"
      ]
    },
    {
      "cell_type": "markdown",
      "id": "a379bac7",
      "metadata": {
        "id": "a379bac7"
      },
      "source": [
        "### 1.2 - Character‑level tokenization\n",
        "\n",
        "Every single character (including spaces and emojis) gets its own ID. This guarantees zero out‑of‑vocabulary issues but very long sequences."
      ]
    },
    {
      "cell_type": "code",
      "execution_count": 3,
      "id": "4ac29144",
      "metadata": {
        "colab": {
          "base_uri": "https://localhost:8080/"
        },
        "id": "4ac29144",
        "outputId": "4747118a-819f-4a7e-ffe7-bf39ad0b7216"
      },
      "outputs": [
        {
          "name": "stdout",
          "output_type": "stream",
          "text": [
            "Vocabulary size: 54 (52 letters + 2 specials)\n",
            "\n",
            "Input text : Hello\n",
            "Token IDs  : [35, 6, 13, 13, 16]\n",
            "Decoded    : Hello\n"
          ]
        }
      ],
      "source": [
        "# 1. Build a fixed vocabulary\n",
        "import string\n",
        "\n",
        "letters = list(string.ascii_lowercase + string.ascii_uppercase)  # a–z + A–Z\n",
        "special = [\"[PAD]\", \"[UNK]\"]  # padding + unknown\n",
        "vocab = special + letters\n",
        "\n",
        "char2id = {ch: idx for idx, ch in enumerate(vocab)}\n",
        "id2char = {idx: ch for ch, idx in char2id.items()}\n",
        "\n",
        "print(f\"Vocabulary size: {len(vocab)} (52 letters + 2 specials)\")\n",
        "\n",
        "# 2. Encode / decode\n",
        "def encode(text):\n",
        "    \"\"\"Convert text → list of IDs (unknown chars → [UNK]).\"\"\"\n",
        "    unk_id = char2id[\"[UNK]\"]\n",
        "    return [char2id.get(ch, unk_id) for ch in text]\n",
        "\n",
        "def decode(ids):\n",
        "    \"\"\"Convert list of IDs.\"\"\"\n",
        "    return \"\".join(id2char[i] for i in ids if i != char2id[\"[PAD]\"])\n",
        "\n",
        "# 3. Demo\n",
        "sample = \"Hello\"\n",
        "ids = encode(sample)\n",
        "recovered = decode(ids)\n",
        "\n",
        "print(\"\\nInput text :\", sample)\n",
        "print(\"Token IDs  :\", ids)\n",
        "print(\"Decoded    :\", recovered)\n"
      ]
    },
    {
      "cell_type": "markdown",
      "id": "391275bd",
      "metadata": {
        "id": "391275bd"
      },
      "source": [
        "### 1.3 - Subword‑level tokenization\n",
        "\n",
        "Sub-word methods such as `Byte-Pair Encoding (BPE)`, `WordPiece`, and `SentencePiece` **learn** the most common character and gorup them into new tokens. For example, the word `unbelievable` might turn into three tokens: `[\"un\", \"believ\", \"able\"]`. This approach strikes a balance between word-level and character-level methods and fix their limitations.\n",
        "\n",
        "For example, `BPE` algorithm forms the vocabulary using the following steps:\n",
        "1. **Start with bytes** → every character is its own token.  \n",
        "2. **Count all adjacent pairs** in a huge corpus.  \n",
        "3. **Merge the most frequent pair** into a new token.  \n",
        "   *Repeat steps 2-3* until you hit the target vocab size (e.g., 50 k).\n",
        "\n",
        "Let's see `BPE` in practice."
      ]
    },
    {
      "cell_type": "code",
      "execution_count": 4,
      "id": "4675e67a",
      "metadata": {
        "colab": {
          "base_uri": "https://localhost:8080/",
          "height": 429,
          "referenced_widgets": [
            "aad14a73e2e14cbc81387b875efcf96f",
            "c0d4b3d62e5145bc985bdce2ac716f11",
            "b3c8ff37ccf7487d9d8eec960541e767",
            "fdb7dc6fff554b84a8d8291021c8b5a5",
            "0fdba089b729412db0a32206bb724e0f",
            "8a0bd05fba6b408caa56e2237bbb4a82",
            "e024652945f94fd2bc2d9a28760cb159",
            "d9722550d5fb42609da0b04985a55863",
            "d6097acce80d4aed855f6b9bbdf27f54",
            "ced878c887b448b1af8c9d8b45082572",
            "60acdab3e5104128a42264a7c8780316",
            "759aecff52b340ae8d5e7b878dda9a38",
            "485825bd7f7d4bedac2404da47e3c17d",
            "0fae768fa92047e9955873cce9948106",
            "75079c1cbdd94ee2864c605e0d87924b",
            "a28b894d16724777af1108832696562f",
            "c9334cc2b17044f5a47a946a5ffd6978",
            "c06b6c1ece3349acaccaa39c001d0153",
            "1b08d5c58a7f4aeda7eb08d55653e947",
            "862be556a0854daf960263e703c524da",
            "8e94e7f4cdfc48e79c432788293be3bd",
            "97cacb8b41ad40f69389dd743973001e",
            "eac8cc34255a489c91924e81c232bd9d",
            "0dfe106624d34aea8d60445c3ab6cf43",
            "5828aeccd2024a199b9d5771a3977b93",
            "a2476551203645fa9e42f476ffb97a40",
            "9f2a214315044f0a966794364101b5fe",
            "b80f49556dfd42808c4a1731c635636a",
            "7b82d85cfdf149719f8b33fa08a6319e",
            "aceb511c29c34504bb2fad6edacd77dd",
            "4ce0aad5429d41dbb2466205ea9a07aa",
            "6869f4b8f4fe4046ad84c2e9e2b55df9",
            "ca1ed6ee9538498ca9c6a81e0df08c7e",
            "80bef51228db4d10ad922e0aa4e70bfe",
            "183f5f22e5234476a0ffc797c59dc9d5",
            "83e63cdb466846d69ffd51bdf070bfb8",
            "d4b6c18242d14ad38ab6bc1dcf7439b7",
            "ae581d7619fa4fdbb767bcb7c181b5fc",
            "fedb4d0db3fc4b969c47ce30656cf3df",
            "f81216b335c44d48b7f9885a934aef81",
            "902e2bc5d95e4e6fa412d016dd2afc78",
            "cb405c27d47045a9856a28d33928de7a",
            "e9cb1cc7a3aa4f24b161383684e885ef",
            "c74a58f448d94fd5ac57df0e5115e944",
            "11d83c357e9a4a499bf8febe54cce845",
            "6a96e9d2499a41a78f670c62dd04a965",
            "b04f440665a44ac79ef4f01f239992dc",
            "acfe086f5b7c4e98b682e95bea0d45e6",
            "aea477b9eb9540bd8cdc91708c3de0cb",
            "458b2fc694364652a2b1c0f3306edf2b",
            "31f0654d87db436f8e7456ba545ed6fa",
            "0ef0859ac635474c82af31755e27d2a1",
            "5dc01516dcdc4090bbff6f1a3863047c",
            "6ef1518ae8434b60a6f50c7be76e508b",
            "83f21cfc658048b8acbe2a9b906e8af0"
          ]
        },
        "id": "4675e67a",
        "outputId": "1988c502-1dbb-4f16-d8c6-1d0b752ac9d0"
      },
      "outputs": [
        {
          "name": "stdout",
          "output_type": "stream",
          "text": [
            "Vocab size: 50257\n",
            "Special tokens: ['<|endoftext|>']\n",
            "\n",
            "Input text : Unbelievable tokenization powers! 🚀\n",
            "Token IDs  : [3118, 6667, 11203, 540, 11241, 1634, 5635, 0, 12520, 248, 222]\n",
            "Tokens     : ['Un', 'bel', 'iev', 'able', 'Ġtoken', 'ization', 'Ġpowers', '!', 'ĠðŁ', 'ļ', 'Ģ']\n",
            "Decoded    : Unbelievable tokenization powers! 🚀\n"
          ]
        }
      ],
      "source": [
        "# 1. Load a pretrained BPE tokenizer (GPT-2 uses BPE)\n",
        "from transformers import AutoTokenizer\n",
        "\n",
        "bpe_tok = AutoTokenizer.from_pretrained(\"gpt2\")\n",
        "\n",
        "print(\"Vocab size:\", bpe_tok.vocab_size)\n",
        "print(\"Special tokens:\", bpe_tok.all_special_tokens)\n",
        "\n",
        "# 2. Encode / decode\n",
        "def encode(text):\n",
        "    return bpe_tok.encode(text)\n",
        "\n",
        "def decode(ids):\n",
        "    return bpe_tok.decode(ids)\n",
        "\n",
        "# 3. Demo\n",
        "sample = \"Unbelievable tokenization powers! 🚀\"\n",
        "ids = encode(sample)\n",
        "recovered = decode(ids)\n",
        "\n",
        "print(\"\\nInput text :\", sample)\n",
        "print(\"Token IDs  :\", ids)\n",
        "print(\"Tokens     :\", bpe_tok.convert_ids_to_tokens(ids))\n",
        "print(\"Decoded    :\", recovered)\n"
      ]
    },
    {
      "cell_type": "markdown",
      "id": "badaa5a8",
      "metadata": {
        "id": "badaa5a8"
      },
      "source": [
        "### 1.4 - TikToken\n",
        "\n",
        "`tiktoken` is a production-ready library which offers high‑speed tokenization used by OpenAI models.  \n",
        "Let's compare the older **gpt2** encoding with the newer **cl100k_base** used in GPT‑4."
      ]
    },
    {
      "cell_type": "code",
      "execution_count": 5,
      "id": "7704c470",
      "metadata": {
        "colab": {
          "base_uri": "https://localhost:8080/"
        },
        "id": "7704c470",
        "outputId": "d25ed0b2-fa22-496a-906e-3ff4f2765793"
      },
      "outputs": [
        {
          "name": "stdout",
          "output_type": "stream",
          "text": [
            "\n",
            "=== gpt2 ===\n",
            "Vocabulary size: 50257\n",
            "Sentence splits into 11 tokens:\n",
            "[('The', 464), (' �', 12520), ('�', 234), ('�', 253), (' star', 3491), ('-', 12), ('player', 7829), (' scored', 7781), (' 40', 2319), (' points', 2173), ('!', 0)]\n",
            "Sample tokens from the vocabulary:\n",
            "[('!', 0), ('\"', 1), ('#', 2), ('\\n', 198), ('<|endoftext|>', 50256)]\n",
            "\n",
            "=== cl100k_base ===\n",
            "Vocabulary size: 100277\n",
            "Sentence splits into 11 tokens:\n",
            "[('The', 791), (' �', 11410), ('�', 234), ('�', 253), (' star', 6917), ('-player', 43467), (' scored', 16957), (' ', 220), ('40', 1272), (' points', 3585), ('!', 0)]\n",
            "Sample tokens from the vocabulary:\n",
            "[('!', 0), ('\"', 1), ('#', 2), ('\\n', 198), ('parable', 50256)]\n"
          ]
        }
      ],
      "source": [
        "import tiktoken\n",
        "\n",
        "encodings = [\n",
        "    (\"gpt2\", tiktoken.get_encoding(\"gpt2\")),\n",
        "    (\"cl100k_base\", tiktoken.get_encoding(\"cl100k_base\")),\n",
        "]\n",
        "\n",
        "sentence = \"The 🌟 star-player scored 40 points!\"\n",
        "\n",
        "for name, enc in encodings:\n",
        "    print(f\"\\n=== {name} ===\")\n",
        "    print(\"Vocabulary size:\", enc.n_vocab)\n",
        "\n",
        "    # Encode the sample sentence\n",
        "    ids = enc.encode(sentence)\n",
        "    tokens = [enc.decode([i]) for i in ids]\n",
        "    print(f\"Sentence splits into {len(ids)} tokens:\")\n",
        "    print(list(zip(tokens, ids)))\n",
        "\n",
        "    # Show a few arbitrary token→ID examples from the vocab\n",
        "    some_ids = [0, 1, 2, 198, 50256]\n",
        "    print(\"Sample tokens from the vocabulary:\")\n",
        "    print([(enc.decode([i]), i) for i in some_ids])\n"
      ]
    },
    {
      "cell_type": "markdown",
      "id": "5e8c1023",
      "metadata": {
        "id": "5e8c1023"
      },
      "source": [
        "Experiment: try new sentences, emojis, code snippets, or other languages. If you are interested, try implementing the BPE algorithm yourself.\n",
        "\n",
        "### 1.5 - Key Takeaways\n",
        "\n",
        "* **Word‑level**: simple but brittle (OOV problems).  \n",
        "* **Character‑level**: robust but produces long sequences.  \n",
        "* **BPE / Byte‑Level BPE**: middle ground used by most LLMs.  \n",
        "* **tiktoken**: shows how production models tokenize with pre‑trained sub‑word vocabularies."
      ]
    },
    {
      "cell_type": "markdown",
      "id": "c2a758ba",
      "metadata": {
        "id": "c2a758ba"
      },
      "source": [
        "# 2. What is a Language Model?\n",
        "\n",
        "At its core, a **language model (LM)** is just a *very large* mathematical function built from many neural-network layers.  \n",
        "Given a sequence of tokens `[t₁, t₂, …, tₙ]`, it learns to output a probability for the next token `tₙ₊₁`.\n",
        "\n",
        "\n",
        "Each layer applies a simple operation (matrix multiplication, attention, etc.). Stacking hundreds of these layers lets the model capture patterns and statistical relations from text. The final output is a vector of scores that says, “how likely is each possible token to come next?”\n",
        "\n",
        "> Think of the whole network as **one gigantic equation** whose parameters were tuned during training to minimize prediction error.\n"
      ]
    },
    {
      "cell_type": "markdown",
      "id": "8f0c7399",
      "metadata": {
        "id": "8f0c7399"
      },
      "source": [
        "\n",
        "### 2.1 - A Single `Linear` Layer\n",
        "\n",
        "Before we explore Transformer, let’s start tiny:\n",
        "\n",
        "* A **Linear layer** performs `y = Wx + b`  \n",
        "  * `x` – input vector  \n",
        "  * `W` – weight matrix (learned)  \n",
        "  * `b` – bias vector (learned)\n",
        "\n",
        "Although this looks basic, chaining thousands of such linear transforms (with nonlinearities in between) gives neural nets their expressive power.\n"
      ]
    },
    {
      "cell_type": "code",
      "execution_count": 6,
      "id": "e425948a",
      "metadata": {
        "colab": {
          "base_uri": "https://localhost:8080/"
        },
        "id": "e425948a",
        "outputId": "81fbd114-4ca5-4666-9c9f-07ad48181acd"
      },
      "outputs": [
        {
          "name": "stdout",
          "output_type": "stream",
          "text": [
            "Input : tensor([ 1.0000, -1.0000,  0.5000])\n",
            "Weights: Parameter containing:\n",
            "tensor([[ 0.5785,  0.3669,  0.4142],\n",
            "        [ 1.0532, -0.4322,  1.4070]], requires_grad=True)\n",
            "Bias   : Parameter containing:\n",
            "tensor([ 0.4892, -0.0900], requires_grad=True)\n",
            "Output : tensor([0.9079, 2.0989], grad_fn=<AddBackward0>)\n"
          ]
        }
      ],
      "source": [
        "import torch.nn as nn\n",
        "class Linear(nn.Module):\n",
        "    def __init__(self, in_features, out_features):\n",
        "        super(Linear, self).__init__()\n",
        "        self.weight = nn.Parameter(torch.randn(out_features, in_features))\n",
        "        self.bias = nn.Parameter(torch.randn(out_features))\n",
        "\n",
        "    def forward(self, x):\n",
        "        return torch.matmul(x, self.weight.t()) + self.bias\n",
        "\n",
        "lin = Linear(3, 2)\n",
        "x = torch.tensor([1.0, -1.0, 0.5])\n",
        "print(\"Input :\", x)\n",
        "print(\"Weights:\", lin.weight)\n",
        "print(\"Bias   :\", lin.bias)\n",
        "print(\"Output :\", lin(x))"
      ]
    },
    {
      "cell_type": "code",
      "execution_count": 7,
      "id": "13e5e225",
      "metadata": {
        "colab": {
          "base_uri": "https://localhost:8080/"
        },
        "id": "13e5e225",
        "outputId": "a29cbd7c-f0b6-4279-8a23-7be9e2eaf978"
      },
      "outputs": [
        {
          "name": "stdout",
          "output_type": "stream",
          "text": [
            "Input : tensor([ 1.0000, -1.0000,  0.5000])\n",
            "Weights: Parameter containing:\n",
            "tensor([[ 0.4913,  0.4833,  0.4268],\n",
            "        [ 0.5636,  0.1915, -0.3497]], requires_grad=True)\n",
            "Bias   : Parameter containing:\n",
            "tensor([0.5581, 0.3853], requires_grad=True)\n",
            "Output : tensor([0.7795, 0.5825], grad_fn=<ViewBackward0>)\n"
          ]
        }
      ],
      "source": [
        "import torch.nn as nn, torch\n",
        "\n",
        "lin = nn.Linear(3, 2)\n",
        "x = torch.tensor([1.0, -1.0, 0.5])\n",
        "print(\"Input :\", x)\n",
        "print(\"Weights:\", lin.weight)\n",
        "print(\"Bias   :\", lin.bias)\n",
        "print(\"Output :\", lin(x))\n"
      ]
    },
    {
      "cell_type": "markdown",
      "id": "a04f56bf",
      "metadata": {
        "id": "a04f56bf"
      },
      "source": [
        "### 2.2 - A `Transformer` Layer\n",
        "\n",
        "Most LLMs are a **stack of identical Transformer blocks**. Each block fuses two main components:\n",
        "\n",
        "| Step | What it does | Where it lives in code |\n",
        "|------|--------------|------------------------|\n",
        "| **Multi-Head Self-Attention** | Every token looks at every other token and decides *what matters*. | `block.attn` |\n",
        "| **Feed-Forward Network (MLP)** | Re-mixes information token-by-token. | `block.mlp` |\n",
        "\n",
        "Below, we load the smallest public GPT-2 (124 M parameters), grab its *first* block, and inspect the pieces.\n"
      ]
    },
    {
      "cell_type": "code",
      "execution_count": 10,
      "id": "47c87f6e",
      "metadata": {
        "colab": {
          "base_uri": "https://localhost:8080/",
          "height": 208,
          "referenced_widgets": [
            "37af1deba72242419c85f58b25014673",
            "18274f2751344c0687fae81ba286f930",
            "dada5f624514427a9efd705c356e0d34",
            "d40a6d6e07e640a4ac73020c17067848",
            "c053b98603f440258b09f6b1e349252c",
            "b5ffdd2d4bbb462bb3e1ad9f86ae3077",
            "9bd0b1394e0741ed99dde3a484ed9ad2",
            "5402052bfb444d07a4a1eba73c67c406",
            "f43317868cb94131b29caae242ccd643",
            "8f23fc988e044cac8005332eb9a12339",
            "78d654682275407ba55fb8a05503b40e",
            "6d96765e091f4e1d9b3ddba77d1b671f",
            "690d11a9e3924b06b672b510c5122415",
            "ff6291958a32426586215ac3e9399ef2",
            "d9ca4deb36cf4dea9cf55c60521d7583",
            "48a3a1095e2e42a18ad7dabba4ee6e41",
            "9e734e5bfaec4716b8e68ba535d12390",
            "674d8a53b0ef45d8be542615fe3fb74e",
            "86d7d26bd695435f99c67d5773837149",
            "6f5c16ca0c844686b50b3bc8a0d6a589",
            "c80412ea8c5142f392eb74b8cfc80343",
            "9cbc50826934470a829d4c2a05271905"
          ]
        },
        "id": "47c87f6e",
        "outputId": "a9f222e6-da60-4bbb-d652-7b246a863236"
      },
      "outputs": [
        {
          "name": "stdout",
          "output_type": "stream",
          "text": [
            "ln_1    → LayerNorm\n",
            "attn    → GPT2Attention\n",
            "ln_2    → LayerNorm\n",
            "mlp     → GPT2MLP\n"
          ]
        }
      ],
      "source": [
        "import torch\n",
        "from transformers import GPT2LMHeadModel\n",
        "\n",
        "# Load the 124 M-parameter GPT-2\n",
        "gpt2 = GPT2LMHeadModel.from_pretrained(\"gpt2\")\n",
        "block = gpt2.transformer.h[0] # GPT-2 has 12 such layers\n",
        "for name, module in block.named_children():\n",
        "    print(f\"{name:7s} → {module.__class__.__name__}\")"
      ]
    },
    {
      "cell_type": "code",
      "execution_count": 11,
      "id": "f2361d93",
      "metadata": {
        "colab": {
          "base_uri": "https://localhost:8080/"
        },
        "id": "f2361d93",
        "outputId": "cb8b3d41-8ccf-4928-e44a-3f1508429b67"
      },
      "outputs": [
        {
          "name": "stdout",
          "output_type": "stream",
          "text": [
            "=== First Transformer Block ===\n",
            "GPT2Block(\n",
            "  (ln_1): LayerNorm((768,), eps=1e-05, elementwise_affine=True)\n",
            "  (attn): GPT2Attention(\n",
            "    (c_attn): Conv1D(nf=2304, nx=768)\n",
            "    (c_proj): Conv1D(nf=768, nx=768)\n",
            "    (attn_dropout): Dropout(p=0.1, inplace=False)\n",
            "    (resid_dropout): Dropout(p=0.1, inplace=False)\n",
            "  )\n",
            "  (ln_2): LayerNorm((768,), eps=1e-05, elementwise_affine=True)\n",
            "  (mlp): GPT2MLP(\n",
            "    (c_fc): Conv1D(nf=3072, nx=768)\n",
            "    (c_proj): Conv1D(nf=768, nx=3072)\n",
            "    (act): NewGELUActivation()\n",
            "    (dropout): Dropout(p=0.1, inplace=False)\n",
            "  )\n",
            ") \n",
            "\n"
          ]
        }
      ],
      "source": [
        "print(\"=== First Transformer Block ===\")\n",
        "print(block, \"\\n\")"
      ]
    },
    {
      "cell_type": "code",
      "execution_count": 13,
      "id": "92df06df",
      "metadata": {
        "colab": {
          "base_uri": "https://localhost:8080/"
        },
        "id": "92df06df",
        "outputId": "06130c23-2807-4f09-9d77-cbc8be2461b4"
      },
      "outputs": [
        {
          "name": "stdout",
          "output_type": "stream",
          "text": [
            "\n",
            "Output shape : torch.Size([1, 8, 768])\n"
          ]
        }
      ],
      "source": [
        "# Run a tiny forward pass through one block\n",
        "seq_len = 8\n",
        "dummy_tokens = torch.randint(0, gpt2.config.vocab_size, (1, seq_len))\n",
        "with torch.no_grad():\n",
        "    # Embed tokens + positions the same way GPT-2 does\n",
        "    hidden = (\n",
        "        gpt2.transformer.wte(dummy_tokens) +\n",
        "        gpt2.transformer.wpe(torch.arange(seq_len))\n",
        "    )\n",
        "    # Forward through one layer\n",
        "    out = block(hidden, past_key_value=None, use_cache=False)[0]\n",
        "print(\"\\nOutput shape :\", out.shape) # (batch, seq_len, hidden_size)"
      ]
    },
    {
      "cell_type": "markdown",
      "id": "8493ecc8",
      "metadata": {
        "id": "8493ecc8"
      },
      "source": [
        "### 2.3 - Inside GPT-2\n",
        "\n",
        "GPT-2 is just many of those modules arranged in a repeating *block*. Let's print the modules inside the Transformer."
      ]
    },
    {
      "cell_type": "code",
      "execution_count": 16,
      "id": "a78ddee1",
      "metadata": {
        "colab": {
          "base_uri": "https://localhost:8080/"
        },
        "id": "a78ddee1",
        "outputId": "7dbb0ccc-91dd-4bb4-a629-c22cd6b6899c"
      },
      "outputs": [
        {
          "name": "stdout",
          "output_type": "stream",
          "text": [
            "wte     → Embedding\n",
            "wpe     → Embedding\n",
            "drop    → Dropout\n",
            "h       → ModuleList\n",
            "ln_f    → LayerNorm\n"
          ]
        }
      ],
      "source": [
        "for name, module in gpt2.transformer.named_children():\n",
        "    print(f\"{name:7s} → {module.__class__.__name__}\")"
      ]
    },
    {
      "cell_type": "markdown",
      "id": "ed029847",
      "metadata": {
        "id": "ed029847"
      },
      "source": [
        "As you can see, the Transformer holds various modules, arranged from a list of blocks (`h`). The following table summarizes these modules:\n",
        "\n",
        "| Step | What it does | Why it matters |\n",
        "|------|--------------|----------------|\n",
        "| **Token → Embedding** | Converts IDs to vectors | Gives the model a numeric “handle” on words |\n",
        "| **Positional Encoding** | Adds “where am I?” info | Order matters in language |\n",
        "| **Multi-Head Self-Attention** | Each token asks “which other tokens should I look at?” | Lets the model relate words across a sentence |\n",
        "| **Feed-Forward Network** | Two stacked Linear layers with a non-linearity | Mixes information and adds depth |\n",
        "| **LayerNorm & Residual** | Stabilize training and help gradients flow | Keeps very deep networks trainable |\n"
      ]
    },
    {
      "cell_type": "markdown",
      "id": "0a6a7495",
      "metadata": {
        "id": "0a6a7495"
      },
      "source": [
        "### 2.4 LLM's output\n",
        "\n",
        "Passing a token sequence through an **LLM** yields a tensor of **logits** with shape  \n",
        "`(batch_size, seq_len, vocab_size)`.  \n",
        "Applying `softmax` on the last dimension turns those logits into probabilities.\n",
        "\n",
        "The cell below feeds an 8-token dummy sequence, prints the logits shape, and shows the five most likely next tokens for the final position.\n"
      ]
    },
    {
      "cell_type": "code",
      "execution_count": 18,
      "id": "f98b7b34",
      "metadata": {
        "colab": {
          "base_uri": "https://localhost:8080/"
        },
        "id": "f98b7b34",
        "outputId": "dab929cf-cefc-4d5b-f092-868392f9b1b8"
      },
      "outputs": [
        {
          "name": "stdout",
          "output_type": "stream",
          "text": [
            "Logits shape : torch.Size([1, 3, 50257])\n",
            "\n",
            "Top-5 predictions for the next token:\n",
            "        is  —  0.7773\n",
            "         ,  —  0.0373\n",
            "        's  —  0.0332\n",
            "       was  —  0.0127\n",
            "       and  —  0.0076\n"
          ]
        }
      ],
      "source": [
        "import torch, torch.nn.functional as F\n",
        "from transformers import GPT2LMHeadModel, GPT2TokenizerFast\n",
        "\n",
        "try:\n",
        "    gpt2\n",
        "except NameError:\n",
        "    gpt2 = GPT2LMHeadModel.from_pretrained(\"gpt2\")\n",
        "tokenizer = GPT2TokenizerFast.from_pretrained(\"gpt2\")\n",
        "\n",
        "# Tokenize input text\n",
        "text = \"Hello my name\"\n",
        "input_ids = tokenizer(text, return_tensors=\"pt\").input_ids  # shape: (1, seq_len)\n",
        "\n",
        "\n",
        "with torch.no_grad():\n",
        "    logits = gpt2(input_ids).logits          # (1, seq_len, vocab_size)\n",
        "\n",
        "print(\"Logits shape :\", logits.shape)\n",
        "\n",
        "# Predict next token\n",
        "probs = F.softmax(logits[0, -1], dim=-1)     # (vocab_size,)\n",
        "topk = torch.topk(probs, 5)\n",
        "\n",
        "print(\"\\nTop-5 predictions for the next token:\")\n",
        "for idx, p in zip(topk.indices.tolist(), topk.values.tolist()):\n",
        "    print(f\"{tokenizer.decode([idx]):>10s}  —  {p:.4f}\")\n"
      ]
    },
    {
      "cell_type": "markdown",
      "id": "0eb05c9b",
      "metadata": {
        "id": "0eb05c9b"
      },
      "source": [
        "### 2.5 - Key Takeaway\n",
        "\n",
        "A language model is nothing mystical: it’s a *huge composition* of small, understandable layers trained to predict the next token in a sequence of tokens."
      ]
    },
    {
      "cell_type": "markdown",
      "id": "e0ccf391",
      "metadata": {
        "id": "e0ccf391"
      },
      "source": [
        "# 3 - Generation\n",
        "Once an LLM is trained to predict the probabilities, we can generate text from the model. This process is called decoding or sampling.\n",
        "\n",
        "At each step, the LLM outputs a **probability distribution** over the next token. It is the job of the decoding algorithm to pick the next token, and move on to the next token. There are different decoding algorithms and hyper-parameters to control the generaiton:\n",
        "* **Greedy** → pick the single highest‑probability token each step (safe but repetitive).  \n",
        "* **Top‑k / Nucleus (top‑p)** → sample from a subset of likely tokens (adds variety).\n",
        "* **beam** -> applies beam search to pick tokens\n",
        "* **Temperature** → a *creativity* knob. Higher values flatten the probability distribution."
      ]
    },
    {
      "cell_type": "markdown",
      "id": "ac0c5728",
      "metadata": {
        "id": "ac0c5728"
      },
      "source": [
        "### 3.1 - Greedy decoding"
      ]
    },
    {
      "cell_type": "code",
      "execution_count": 19,
      "id": "2f2cb953",
      "metadata": {
        "colab": {
          "base_uri": "https://localhost:8080/"
        },
        "id": "2f2cb953",
        "outputId": "6295e944-7ce8-44bf-eb60-6d7878c503ff"
      },
      "outputs": [
        {
          "name": "stdout",
          "output_type": "stream",
          "text": [
            "Loaded gpt2 as gpt2\n"
          ]
        }
      ],
      "source": [
        "from transformers import AutoTokenizer, AutoModelForCausalLM\n",
        "MODELS = {\n",
        "    \"gpt2\": \"gpt2\",\n",
        "}\n",
        "tokenizers, models = {}, {}\n",
        "device = \"cuda\" if torch.cuda.is_available() else \"cpu\"\n",
        "for key, mid in MODELS.items():\n",
        "    tok = AutoTokenizer.from_pretrained(mid)\n",
        "    mdl = AutoModelForCausalLM.from_pretrained(mid).eval().to(device)\n",
        "    if tok.pad_token is None:\n",
        "        tok.pad_token = tok.eos_token\n",
        "    mdl.config.pad_token_id = tok.pad_token_id\n",
        "    tokenizers[key], models[key] = tok, mdl\n",
        "    print(f\"Loaded {mid} as {key}\")\n",
        "\n",
        "def generate(model_key, prompt, strategy=\"greedy\", max_new_tokens=100):\n",
        "    tok, mdl = tokenizers[model_key], models[model_key]\n",
        "    enc = tok(prompt, return_tensors=\"pt\").to(mdl.device)\n",
        "    gen_args = dict(**enc, max_new_tokens=max_new_tokens, pad_token_id=tok.pad_token_id)\n",
        "    if strategy==\"greedy\":\n",
        "        gen_args[\"do_sample\"]=False\n",
        "    elif strategy==\"top_k\":\n",
        "        gen_args.update(dict(do_sample=True, top_k=50, temperature=0.9))\n",
        "    elif strategy==\"top_p\":\n",
        "        gen_args.update(dict(do_sample=True, top_p=0.9, temperature=0.9))\n",
        "    out = mdl.generate(**gen_args)\n",
        "    return tok.decode(out[0], skip_special_tokens=True)\n"
      ]
    },
    {
      "cell_type": "code",
      "execution_count": 20,
      "id": "dbe777ba",
      "metadata": {
        "colab": {
          "base_uri": "https://localhost:8080/"
        },
        "id": "dbe777ba",
        "outputId": "8d0cbc16-078a-47cb-a411-e789b3f3db61"
      },
      "outputs": [
        {
          "name": "stdout",
          "output_type": "stream",
          "text": [
            "\n",
            "== GPT-2 | Greedy ==\n",
            "Once upon a time, the world was a place of great beauty and great danger. The world was a place of great danger, and the world was a place of great danger. The world was a place of great danger, and the world was a place of great danger. The world was a place of great danger, and the world was a place of great danger. The world was a place of great danger, and\n",
            "\n",
            "== GPT-2 | Greedy ==\n",
            "What is 2+2?\n",
            "\n",
            "2+2 is the number of times you can use a spell to cast a spell.\n",
            "\n",
            "2+2 is the number of times you can use a spell to cast a spell.\n",
            "\n",
            "2+2 is the number of times you can use a spell to cast a spell.\n",
            "\n",
            "2+2 is the number of times you can use a spell to cast a spell.\n",
            "\n",
            "== GPT-2 | Greedy ==\n",
            "Suggest a party theme.\n",
            "\n",
            "The party theme is a simple, simple, and fun way to get your friends to join you.\n",
            "\n",
            "The party theme is a simple, simple, and fun way to get your friends to join you. The party theme is a simple, simple, and fun way to get your friends to join you. The party theme is a simple, simple, and fun way to get your friends\n"
          ]
        }
      ],
      "source": [
        "tests=[\"Once upon a time\",\"What is 2+2?\", \"Suggest a party theme.\"]\n",
        "for prompt in tests:\n",
        "    print(f\"\\n== GPT-2 | Greedy ==\")\n",
        "    print(generate(\"gpt2\", prompt, \"greedy\", 80))\n"
      ]
    },
    {
      "cell_type": "markdown",
      "id": "f51d44b2",
      "metadata": {
        "id": "f51d44b2"
      },
      "source": [
        "\n",
        "Naively picking the single best token every time has the following issues in practice:\n",
        "\n",
        "* **Loop**: “The cat is is is…”  \n",
        "* **Miss long-term payoff**: the highest-probability word *now* might paint you into a boring corner later."
      ]
    },
    {
      "cell_type": "markdown",
      "id": "91607661",
      "metadata": {
        "id": "91607661"
      },
      "source": [
        "### 3.2 - Top-k or top-p sampling"
      ]
    },
    {
      "cell_type": "code",
      "execution_count": 21,
      "id": "0633d4a3",
      "metadata": {
        "colab": {
          "base_uri": "https://localhost:8080/"
        },
        "id": "0633d4a3",
        "outputId": "4d304dc1-4537-4ff6-9e7d-7566c411a815"
      },
      "outputs": [
        {
          "name": "stdout",
          "output_type": "stream",
          "text": [
            "\n",
            "== GPT-2 | Top-p ==\n",
            "Once upon a time, the world was a place of great beauty and great danger. The world was a place of great danger, and the world was a place of great danger. The world was a place of great danger\n",
            "\n",
            "== GPT-2 | Top-p ==\n",
            "What is 2+2?\n",
            "\n",
            "2+2 is the number of times you can use a spell to cast a spell.\n",
            "\n",
            "2+2 is the number of times you can use a spell to cast a spell.\n",
            "\n",
            "== GPT-2 | Top-p ==\n",
            "Suggest a party theme.\n",
            "\n",
            "The party theme is a simple, simple, and fun way to get your friends to join you.\n",
            "\n",
            "The party theme is a simple, simple, and fun way to get your friends\n"
          ]
        }
      ],
      "source": [
        "\n",
        "tests=[\"Once upon a time\",\"What is 2+2?\", \"Suggest a party theme.\"]\n",
        "for prompt in tests:\n",
        "    print(f\"\\n== GPT-2 | Top-p ==\")\n",
        "    print(generate(\"gpt2\", prompt, \"top-p\", 40))\n"
      ]
    },
    {
      "cell_type": "markdown",
      "id": "004b4039",
      "metadata": {
        "id": "004b4039"
      },
      "source": [
        "### 3.3 - Try It Yourself\n",
        "\n",
        "1. Scroll to the list called `tests`.\n",
        "2. Swap in your own prompts or tweak the decoding strategy.  \n",
        "3. Re‑run the cell and compare the vibes.\n",
        "\n",
        "> **Tip:** Try the same prompt with `greedy` vs. `top_p` (0.9) and see how the tone changes. Notice especially how small temperature tweaks can soften or sharpen the prose.\n",
        "\n",
        "* `strategy`: `\"greedy\"`, `\"beam\"`, `\"top_k\"`, `\"top_p\"`  \n",
        "* `temperature`: `0.2 – 2.0`  \n",
        "* `k` or `p` thresholds\n",
        "\n"
      ]
    },
    {
      "cell_type": "markdown",
      "id": "6b775b02",
      "metadata": {
        "id": "6b775b02"
      },
      "source": [
        "# 4 - Completion vs. Instruction-tuned LLMs\n",
        "\n",
        "We have seen that we can use GPT2 model to pass an input text and generate a new text. However, this model only continues the provided text. It is not engaging in a dialouge-like conversation and cannot be helpful by answering instructions. On the other hand, **instruction-tuned LLMs** like `Qwen-Chat` go through an extra training stage called **post-training** after the base “completion” model is finished. Because of post-training step, an instruction-tuned LLM will:\n",
        "\n",
        "* **Read the entire prompt as a request,** not just as text to mimic.  \n",
        "* **Stay in dialogue mode**. Answer questions, follow steps, ask clarifying queries.  \n",
        "* **Refuse or safe-complete** when instructions are unsafe or disallowed.  \n",
        "* **Adopt a consistent persona** (e.g., “Assistant”) rather than drifting into story continuation.\n"
      ]
    },
    {
      "cell_type": "markdown",
      "id": "1706dc08",
      "metadata": {
        "id": "1706dc08"
      },
      "source": [
        "### 4.1 - Qwen1.5-8B vs. GPT2\n",
        "\n",
        "In the code below we’ll feed the same prompt to:\n",
        "\n",
        "* **GPT-2 (completion-only)** – it will simply keep writing in the same style.  \n",
        "* **Qwen-Chat (instruction-tuned)** – it will obey the instruction and respond directly.\n",
        "\n",
        "Comparing the two outputs makes the difference easy to see."
      ]
    },
    {
      "cell_type": "code",
      "execution_count": 22,
      "id": "57b73e7a",
      "metadata": {
        "colab": {
          "base_uri": "https://localhost:8080/",
          "height": 350,
          "referenced_widgets": [
            "9e11091a8f6847f3862648c0fa9bbe03",
            "4610258527664ff49322d2b60fda1212",
            "b1423de71d784b2baf183c672e59b882",
            "2ab201cb663447eeb7b6c45b7f1c8c5f",
            "53fba4de7a1a43f19ea8bf97658ddecb",
            "6a623e57be7443458e6f632b3da33cea",
            "2a9580da37374e609ded703e1198ec34",
            "d07abec9e2ed447f9391f1fc6a71bd0e",
            "69f8c8d400a04675b5512a8f4c41e3f4",
            "b8ca3ca8f57a4cb4babf3dae0b539bb6",
            "d5b09f9fcb3a452c984837dc281e632d",
            "720c7f04c39e44d7a70898d5f3559639",
            "656fd197fe4f41fd882fa33a0b5a65d7",
            "77edd337adbb457384055160d1b34044",
            "904ff783e7654411a0c55831616e1fdd",
            "0d89c18387e64332a9ea7ce7773ae011",
            "7e80ed38950f497692d40c65629a6a92",
            "87a0e21d5f2e4396a33b645247b2cebf",
            "cb9368dbba024bde9822cfffc09bff2a",
            "6bb292ab0a154f9b867322c9c9338b18",
            "ab0f6a0bf6804da68fdd34466a04877e",
            "5652430293b142dba3bab7b67d686f1f",
            "e774fba3c0fa4f64be7820f887ea6079",
            "41df5300a9b2421491925e2a876a10ae",
            "8a41f76668ac474c85eb1aed21e779b2",
            "c3024556c64842868c122a9a34130cf0",
            "3b9347f81aa044ea8e227558dbfc62c1",
            "1f8dbe5fef0644eb9d6916ee32cd8520",
            "94aca0ee19df40af86da9fead145f8e4",
            "b4d8d9d47b59410c810fc1602360494c",
            "98ee5361f5ce45d7bf8f4df7216cd36a",
            "285410bb02864ba2b2448a45fcf60dd4",
            "24b19f7b43f14da99831bb1c0a32b127",
            "281c04259d434a938cd78f6e9038946e",
            "f245ea14db064cbc90caa686327cbdce",
            "cae75a5b93bb45e88cdabdcf16078473",
            "73f9ea0b0ef14194876f068d3cec6541",
            "381302c0b43147c8b2862086a892dfd7",
            "97fa61bf53a6491f8df1cc68b58fc7b7",
            "c19fa1ca20c04776a438401f17a14f1e",
            "d5708e14b1ef446a8afba270a672a2bc",
            "279bcc566cd34fa1a3f673ce807f3603",
            "76564c8e1d42403c8df2e98a682c8c34",
            "04dfc2b7deb84589b4d0999e1246406b",
            "026adb7c25a94d508d4f00c999397218",
            "ce168bd62d1f4a0fad10c3d0f0ba7082",
            "0845cb6d981344a1b68296a277d93b07",
            "e339780347d747c8ad2f4ff2fc64ecc6",
            "ca807ff3ca504b7d9cf941d8242dfe0f",
            "486a3da3e706453fbb142bb5529f7e3d",
            "bba42456265a4b4a81c98a767ed7ff3e",
            "9e40306a6d734fc787c8aa058a354cf0",
            "85d2c3dac2944f549cb449648e66f412",
            "53a927c7eebe440ea3649a37ce70bbda",
            "fd7aa39d378444a290b8690eec35b646",
            "4dcab84591344812966960d74e49fc02",
            "cf4a253fa0604874b0596848ee40f071",
            "f91402cb40a843cda5c511a02504609f",
            "94e4b13f21264beb9500d6ebf4534a1d",
            "489a8316340b427591de22aa9e39f969",
            "6461fe5dde9f48e69db65af01a77497b",
            "ac84082e9948478c8a071d67c8588cab",
            "d708f7f766474ac9b187789b48a3c2e1",
            "a2a947af829e4fc395b1259c992fbcc3",
            "029482e82e504d0db445aee3ce542cae",
            "11b19e6f171547e1bc47eb201c08aaa1",
            "28bb10bc246a4bf2bd30cf445f411f83",
            "af0e423e449740238a88579abc004442",
            "23e277cc9cf744efbd6a86e321454743",
            "e64eee9318644362ba097a3b577fdeb1",
            "51f42209c88844b785cf942a594edf2f",
            "ac29b40b61c843d98f7b75d95f48b5f2",
            "182981eff1e344bbbe24ddedb1a8662a",
            "c8554bdb04914848850163c0cea75e54",
            "13f886aeccc34748a0abdb76025317bb",
            "43f6493a64da410c949b8bd472a0908d",
            "98bde7609ce34fbaa19d12d2dc83db03"
          ]
        },
        "id": "57b73e7a",
        "outputId": "ae830561-bd44-4bb4-93b7-c09c171f6bad"
      },
      "outputs": [
        {
          "name": "stdout",
          "output_type": "stream",
          "text": [
            "Loaded gpt2 as gpt2\n",
            "Loaded Qwen/Qwen1.5-1.8B-Chat as qwen\n"
          ]
        }
      ],
      "source": [
        "from transformers import AutoTokenizer, AutoModelForCausalLM\n",
        "MODELS = {\n",
        "    \"gpt2\": \"gpt2\",\n",
        "    \"qwen\": \"Qwen/Qwen1.5-1.8B-Chat\"\n",
        "}\n",
        "tokenizers, models = {}, {}\n",
        "device = \"cuda\" if torch.cuda.is_available() else \"cpu\"\n",
        "for key, mid in MODELS.items():\n",
        "    tok = AutoTokenizer.from_pretrained(mid)\n",
        "    mdl = AutoModelForCausalLM.from_pretrained(mid).eval().to(device)\n",
        "    if tok.pad_token is None:\n",
        "        tok.pad_token = tok.eos_token\n",
        "    mdl.config.pad_token_id = tok.pad_token_id\n",
        "    tokenizers[key], models[key] = tok, mdl\n",
        "    print(f\"Loaded {mid} as {key}\")\n"
      ]
    },
    {
      "cell_type": "markdown",
      "id": "ef49ab1b",
      "metadata": {
        "id": "ef49ab1b"
      },
      "source": [
        "\n",
        "We downloaded two tiny checkpoints: `GPT‑2` (124 M parameters) and `Qwen‑1.5‑Chat` (1.8 B). If the cell took a while, that was mostly network time. Models are stored locally after the first run.\n",
        "\n",
        "Let's now generate text and compare two models.\n"
      ]
    },
    {
      "cell_type": "code",
      "execution_count": 23,
      "id": "0c78a508",
      "metadata": {
        "colab": {
          "base_uri": "https://localhost:8080/"
        },
        "id": "0c78a508",
        "outputId": "f1a64193-ce21-497d-b9a9-24f936d99d79"
      },
      "outputs": [
        {
          "name": "stdout",
          "output_type": "stream",
          "text": [
            "\n",
            "== GPT2 | greedy ==\n"
          ]
        },
        {
          "name": "stderr",
          "output_type": "stream",
          "text": [
            "The following generation flags are not valid and may be ignored: ['top_p']. Set `TRANSFORMERS_VERBOSITY=info` for more details.\n"
          ]
        },
        {
          "name": "stdout",
          "output_type": "stream",
          "text": [
            "Once upon a time, the world was a place of great beauty and great danger. The world was a place of great danger, and the world was a place of great danger. The world was a place of great danger, and the world was a place of great danger. The world was a place of great danger, and the world was a place of great danger. The world was a place of great danger, and\n",
            "\n",
            "== QWEN | greedy ==\n",
            "Once upon a time, there was a young girl named Lily who lived in a small village nestled among the rolling hills of her home. Lily had always been fascinated by nature and spent most of her days exploring the surrounding forests, streams, and meadows. She loved to sing songs about the birds that sang in the trees, the flowers that bloomed in the fields, and the animals that roamed free.\n",
            "One day\n",
            "\n",
            "== GPT2 | top_k ==\n",
            "What is 2+2? How does it work? Well, let's get to it.\n",
            "\n",
            "A 3+2 is a group of numbers that are separated by some extra letter. The 3+2 is used to represent all of a unit's value. In other words, this notation is like 2+2:\n",
            "\n",
            "Example code:\n",
            "\n",
            "/// An integer integer to represent the number of elements in a group.\n",
            "\n",
            "== QWEN | top_k ==\n",
            "What is 2+2? Let's do the calculation step by step:\n",
            "First, we add the two numbers together: \n",
            "2 + 2 = 4\n",
            "Therefore, 2 plus 2 equals 4. The answer is 4.\n",
            "\n",
            "== GPT2 | top_p ==\n",
            "Suggest a party theme.\n",
            "\n",
            "Marks The name of the party that you are going to play in the party. For example, \"A party of one\"\n",
            "\n",
            "A party of two.\n",
            "\n",
            "A party of three.\n",
            "\n",
            "Party A party of three.\n",
            "\n",
            "Party B Party A party of three.\n",
            "\n",
            "Party C Party A party of three.\n",
            "\n",
            "Party D Party A party of three.\n",
            "\n",
            "== QWEN | top_p ==\n",
            "Suggest a party theme. A beach-themed party is perfect for summer, featuring sandy beaches, palm trees, and fun activities like volleyball, sandcastle building, and stargazing. To add an extra touch of excitement, consider incorporating tropical cocktails, fruity desserts, and beach-themed decor such as seashells, tiki torches, and colorful banners. The playlist could feature upbeat tunes from classic沙滩音乐, while the guests\n"
          ]
        }
      ],
      "source": [
        "\n",
        "tests=[(\"Once upon a time\",\"greedy\"),(\"What is 2+2?\",\"top_k\"),(\"Suggest a party theme.\",\"top_p\")]\n",
        "for prompt,strategy in tests:\n",
        "    for key in [\"gpt2\",\"qwen\"]:\n",
        "        print(f\"\\n== {key.upper()} | {strategy} ==\")\n",
        "        print(generate(key,prompt,strategy,80))\n"
      ]
    },
    {
      "cell_type": "markdown",
      "id": "8e1c3da1",
      "metadata": {
        "id": "8e1c3da1"
      },
      "source": [
        "# 5. (Optional) A Small LLM Playground"
      ]
    },
    {
      "cell_type": "markdown",
      "id": "313ba974",
      "metadata": {
        "id": "313ba974"
      },
      "source": [
        "### 5.1 ‑ Interactive Playground\n",
        "\n",
        "Enter a prompt, pick a model and decoding strategy, adjust the temperature, and press **Generate** to watch the model respond.\n"
      ]
    },
    {
      "cell_type": "code",
      "execution_count": null,
      "id": "1a67a884",
      "metadata": {
        "colab": {
          "base_uri": "https://localhost:8080/",
          "height": 339,
          "referenced_widgets": [
            "4d7b999f47114af7aef63acff507926a",
            "53b1a505d202400e9b17487740287505",
            "3c478b92cefd485daf4230b64d8fea0b",
            "349ec54e5585460c8a84b4f372172ffd",
            "5edd4226a0d34e139c5444075c27d378",
            "070484268e044302932fbc2845c249ad",
            "d783a353576e4007a6c01867a54f6bdf",
            "2690d3b55a2b496b8ace0272f3e15075",
            "f684bdf6d9244e3ab9a2d0a769264def",
            "c7dd6f0b07524628b18f3f0928e2a94e",
            "54b2d6d345504e1fac52156273fd8789",
            "7739f3dd46244714bb2f6f9b1a00cdc5",
            "bebf97b92969407b934fcb1e3b387c4e",
            "ef3c998c471a4508878f8c52157afd8a",
            "9cdd396fb10c4c6bb23f67309dce9e09",
            "645eb181286c42b2a1d2259f4b84ad2f",
            "d30fffa79b6a433d84b8718ecc2ff7cf",
            "73e197d0141b4ec4884186a8dfbaea8b",
            "74fdb22ba4f740e588ceadcfd09e8999",
            "f61957b28d4349269bd4e8871e982ba4",
            "b02b42f4783d4fb384d7dad6d38f8644"
          ]
        },
        "id": "1a67a884",
        "outputId": "4003bc26-a3c9-4e22-e58d-ae79e4c2c48b"
      },
      "outputs": [
        {
          "data": {
            "application/vnd.jupyter.widget-view+json": {
              "model_id": "89686bc1e04b4ad4870da5a554699367",
              "version_major": 2,
              "version_minor": 0
            },
            "text/plain": [
              "VBox(children=(Textarea(value='Tell me a fun fact about space.', description='Prompt:', layout=Layout(height='…"
            ]
          },
          "metadata": {},
          "output_type": "display_data"
        }
      ],
      "source": [
        "# import ipywidgets as widgets\n",
        "# from IPython.display import display, Markdown\n",
        "\n",
        "# # Make sure models and tokenizers are loaded\n",
        "# try:\n",
        "#     tokenizers\n",
        "#     models\n",
        "# except NameError:\n",
        "#     raise RuntimeError(\"Please run the earlier setup cells that load the models before using the playground.\")\n",
        "\n",
        "# def generate_playground(model_key, prompt, strategy=\"greedy\", temperature=1.0, max_new_tokens=100):\n",
        "#     tok, mdl = tokenizers[model_key], models[model_key]\n",
        "#     enc = tok(prompt, return_tensors=\"pt\").to(mdl.device)\n",
        "#     gen_args = dict(**enc, max_new_tokens=max_new_tokens, pad_token_id=tok.pad_token_id)\n",
        "#     if strategy == \"greedy\":\n",
        "#         gen_args[\"do_sample\"] = False\n",
        "#     elif strategy == \"top_k\":\n",
        "#         gen_args.update(dict(do_sample=True, top_k=50, temperature=temperature))\n",
        "#     elif strategy == \"top_p\":\n",
        "#         gen_args.update(dict(do_sample=True, top_p=0.9, temperature=temperature))\n",
        "#     else:\n",
        "#         raise ValueError(\"Unknown strategy\")\n",
        "#     out = mdl.generate(**gen_args)\n",
        "#     return tok.decode(out[0], skip_special_tokens=True)\n",
        "\n",
        "# prompt_box = widgets.Textarea(\n",
        "#     value=\"Tell me a fun fact about space.\",\n",
        "#     placeholder=\"Type your prompt here\",\n",
        "#     description=\"Prompt:\",\n",
        "#     layout=widgets.Layout(width=\"100%\", height=\"120px\")\n",
        "# )\n",
        "\n",
        "# model_dropdown = widgets.Dropdown(\n",
        "#     options=[(\"GPT‑2\", \"gpt2\"), (\"Qwen‑1.5‑Chat\", \"qwen\")],\n",
        "#     value=\"gpt2\",\n",
        "#     description=\"Model:\"\n",
        "# )\n",
        "\n",
        "# strategy_dropdown = widgets.Dropdown(\n",
        "#     options=[(\"Greedy\", \"greedy\"), (\"Top‑k\", \"top_k\"), (\"Top‑p\", \"top_p\")],\n",
        "#     value=\"greedy\",\n",
        "#     description=\"Strategy:\"\n",
        "# )\n",
        "\n",
        "# temperature_slider = widgets.FloatSlider(\n",
        "#     value=1.0,\n",
        "#     min=0.1,\n",
        "#     max=2.0,\n",
        "#     step=0.1,\n",
        "#     description=\"Temp:\"\n",
        "# )\n",
        "\n",
        "# generate_button = widgets.Button(description=\"Generate\", button_style=\"primary\")\n",
        "# output_area = widgets.Output()\n",
        "\n",
        "# def on_generate(_):\n",
        "#     output_area.clear_output()\n",
        "#     with output_area:\n",
        "#         try:\n",
        "#             result = generate_playground(\n",
        "#                 model_dropdown.value,\n",
        "#                 prompt_box.value,\n",
        "#                 strategy_dropdown.value,\n",
        "#                 temperature_slider.value\n",
        "#             )\n",
        "#             display(Markdown(f\"**Output:**\\n\\n{result}\"))\n",
        "#         except Exception as e:\n",
        "#             print(\"Error:\", e)\n",
        "\n",
        "# generate_button.on_click(on_generate)\n",
        "\n",
        "# ui = widgets.VBox([\n",
        "#     prompt_box,\n",
        "#     widgets.HBox([model_dropdown, strategy_dropdown, temperature_slider]),\n",
        "#     generate_button,\n",
        "#     output_area\n",
        "# ])\n",
        "\n",
        "# display(ui)\n"
      ]
    },
    {
      "cell_type": "markdown",
      "id": "cfbccead",
      "metadata": {
        "id": "cfbccead"
      },
      "source": [
        "\n",
        "## 🎉 Congratulations!\n",
        "\n",
        "You’ve just learned, explored, and inspected a real **LLM**. In one project you:\n",
        "* Learned how **tokenization** works in practice\n",
        "* Used `tiktoken` library to load and experiment with most advanced tokenizers.\n",
        "* Explored LLM architecture and inspected GPT2 blocks and layers\n",
        "* Learned decoding strategies and used `top-p` to generate text from GPT2\n",
        "* Loaded a powerful chat model, `Qwen1.5-8B` and generated text\n",
        "* Built an LLM playground\n",
        "\n",
        "\n",
        "👏 **Great job!** Take a moment to celebrate. You now have a working mental model of how LLMs work. The skills you used here power most LLMs you see everywhere.\n"
      ]
    },
    {
      "cell_type": "markdown",
      "id": "30824bd6",
      "metadata": {
        "id": "30824bd6"
      },
      "source": []
    }
  ],
  "metadata": {
    "accelerator": "GPU",
    "colab": {
      "gpuType": "T4",
      "provenance": []
    },
    "kernelspec": {
      "display_name": "llm_playground",
      "language": "python",
      "name": "python3"
    },
    "language_info": {
      "codemirror_mode": {
        "name": "ipython",
        "version": 3
      },
      "file_extension": ".py",
      "mimetype": "text/x-python",
      "name": "python",
      "nbconvert_exporter": "python",
      "pygments_lexer": "ipython3",
      "version": "3.11.14"
    }
  },
  "nbformat": 4,
  "nbformat_minor": 5
}

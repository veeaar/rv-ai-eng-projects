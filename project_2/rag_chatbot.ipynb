{
 "cells": [
  {
   "cell_type": "markdown",
   "id": "568f5f07",
   "metadata": {},
   "source": [
    "# Project 2: Customer‑Support Chatbot for an E-Commerce Store"
   ]
  },
  {
   "cell_type": "markdown",
   "id": "2cfe2a04",
   "metadata": {},
   "source": [
    "Welcome! In this project, you'll build a **chatbot** that answers customer service questions about Everstorm Outfitters, an imaginary e-commerce store.\n",
    "\n",
    "Run each cell in order. Feel free to modify them as you go to better understand each tool and search the web or look online for documentation."
   ]
  },
  {
   "cell_type": "markdown",
   "id": "f49e17b2",
   "metadata": {},
   "source": [
    "## Learning Objectives  \n",
    "* **Ingest & chunk** unstructured docs  \n",
    "* **Embed** chunks and **index** with *FAISS*  \n",
    "* **Retrieve** context and **craft prompts**  \n",
    "* **Run** an open‑weight LLM locally with *Ollama*  \n",
    "* **Build** a Retrieval-Augmented Generation (RAG) chain\n",
    "* **Package** the chat loop in a minimal **Streamlit** web UI"
   ]
  },
  {
   "cell_type": "markdown",
   "id": "2a46b9cc",
   "metadata": {},
   "source": [
    "## Roadmap  \n",
    "We will build a RAG-based chatbot in **six** steps:\n",
    "\n",
    "1. **Environment setup**\n",
    "2. **Data preparation**  \n",
    "   a. Load source documents  \n",
    "   b. Chunk the text  \n",
    "3. **Build a retriever**  \n",
    "   a. Generate embeddings  \n",
    "   b. Build a FAISS vector index  \n",
    "4. **Build a generation engine**. Load the *Gemma3-1B* model through Ollama and run a sanity check.  \n",
    "5. **Build a RAG**. Connect the system prompt, retriever, and LLM together. \n",
    "6. **(Optional) Streamlit UI**. Wrap everything in a simple web app so users can chat with the bot.\n"
   ]
  },
  {
   "cell_type": "markdown",
   "id": "3a01819c",
   "metadata": {},
   "source": [
    "## 1 - Environment setup\n",
    "\n",
    "We use conda to manage our project dependencies and ensure everyone has a consistent setup. Conda is an open-source package and environment manager that makes it easy to install libraries and switch between isolated environments. To learn more about conda, you can read: https://docs.conda.io/en/latest/\n",
    "\n",
    "Create and activate a clean *conda* environment and install the required packages. If you don't have conda installed, visit https://www.anaconda.com/docs/getting-started/miniconda/main.\n",
    "\n",
    "\n",
    "Open your terminal, navigate to the project folder where this notebook is located, and run the following commands.\n",
    "\n",
    "```bash\n",
    "conda env create -f environment.yml && conda activate rag-chatbot\n",
    "\n",
    "# (Optional but recommended) Register this environment as a Jupyter kernel\n",
    "python -m ipykernel install --user --name=rag-chatbot --display-name \"rag-chatbot\"\n",
    "```\n",
    "Once this is done, you can select “rag-chatbot” from the Kernel → Change Kernel menu in Jupyter or VS Code.\n",
    "\n",
    "\n",
    "> Behind the scenes:\n",
    "> * Conda reads `environment.yml`, solves all pinned dependencies, and builds an isolated environment named `rag-chatbot`.\n",
    "> * When it reaches the file’s \"pip:\" section, Conda automatically invokes pip to install any remaining Python-only packages so the whole stack be available for the project.\n",
    "> * Registering the kernel makes your new environment visible to Jupyter, so the notebook runs inside the same environment you just created."
   ]
  },
  {
   "cell_type": "markdown",
   "id": "32a29e43",
   "metadata": {},
   "source": [
    "Let's import required libraries and print a message if we're not **missing packages**."
   ]
  },
  {
   "cell_type": "code",
   "execution_count": 1,
   "id": "65b49fcb",
   "metadata": {},
   "outputs": [
    {
     "name": "stderr",
     "output_type": "stream",
     "text": [
      "c:\\Users\\vraje\\miniconda3\\envs\\rag-chatbot\\Lib\\site-packages\\tqdm\\auto.py:21: TqdmWarning: IProgress not found. Please update jupyter and ipywidgets. See https://ipywidgets.readthedocs.io/en/stable/user_install.html\n",
      "  from .autonotebook import tqdm as notebook_tqdm\n"
     ]
    },
    {
     "name": "stdout",
     "output_type": "stream",
     "text": [
      "✅ Libraries imported! You're good to go!\n"
     ]
    }
   ],
   "source": [
    "# Import standard libraries for file handling and text processing\n",
    "import os, pathlib, textwrap, glob\n",
    "\n",
    "# Load documents from various sources (URLs, text files, PDFs)\n",
    "from langchain_community.document_loaders import UnstructuredURLLoader, TextLoader, PyPDFLoader\n",
    "\n",
    "# Split long texts into smaller, manageable chunks for embedding\n",
    "from langchain.text_splitter import RecursiveCharacterTextSplitter\n",
    "\n",
    "# Vector store to store and retrieve embeddings efficiently using FAISS\n",
    "from langchain.vectorstores import FAISS\n",
    "\n",
    "# Generate text embeddings using OpenAI or Hugging Face models\n",
    "from langchain.embeddings import OpenAIEmbeddings, HuggingFaceEmbeddings, SentenceTransformerEmbeddings\n",
    "\n",
    "# Use local LLMs (e.g., via Ollama) for response generation\n",
    "from langchain.llms import Ollama\n",
    "\n",
    "# Build a retrieval chain that combines a retriever, a prompt, and an LLM\n",
    "from langchain.chains import ConversationalRetrievalChain\n",
    "\n",
    "# Create prompts for the RAG system\n",
    "from langchain.prompts import PromptTemplate\n",
    "\n",
    "print(\"✅ Libraries imported! You're good to go!\")"
   ]
  },
  {
   "cell_type": "markdown",
   "id": "1aaacfdc",
   "metadata": {},
   "source": [
    "## 2 - Data preparation\n",
    "The goal of this step is to turn all reference documents into small chunks of text that a retriever can index and search. These documents typically come from:\n",
    "* PDF files: local documents such as policies, user manuals, or guides.\n",
    "* Web pages (HTML): online documentation, blog posts, or help articles.\n",
    "\n",
    "In this step, we perform two actions:\n",
    "* **Ingesting**: load every PDF and collect the raw text in a list named `raw_docs`.\n",
    "* **Chunking**: split each document into small, overlapping chunks so later steps can match a user query to the most relevant passage."
   ]
  },
  {
   "cell_type": "markdown",
   "id": "87150689",
   "metadata": {},
   "source": [
    "### 2.1 - Ingest source documents"
   ]
  },
  {
   "cell_type": "markdown",
   "id": "078b461a",
   "metadata": {},
   "source": [
    "We can use different libraries to load and process PDFs. A quick web search will show several options, each with its own strengths. In this case, we’ll use PyPDFLoader from LangChain, which makes it easy to extract text from PDF files for downstream processing. To learn more about how to use it, refer to: https://python.langchain.com/docs/integrations/document_loaders/pypdfloader/\n",
    "\n",
    "Use **PyPDFLoader** to load every PDF whose filename matches `data/Everstorm_*.pdf` and collect all pages in a list called `raw_docs`. The content of these PDFs is synthetically generated for educational purposes."
   ]
  },
  {
   "cell_type": "code",
   "execution_count": 2,
   "id": "9ff055a6",
   "metadata": {},
   "outputs": [
    {
     "name": "stderr",
     "output_type": "stream",
     "text": [
      "Ignoring wrong pointing object 76 0 (offset 0)\n",
      "Ignoring wrong pointing object 81 0 (offset 0)\n",
      "Ignoring wrong pointing object 80 0 (offset 0)\n"
     ]
    },
    {
     "name": "stdout",
     "output_type": "stream",
     "text": [
      "Loaded 8 PDF pages from 4 files.\n"
     ]
    }
   ],
   "source": [
    "pdf_paths = glob.glob(\"C:/rajesh/docs/personal/career/learning/bytebytegoAI/ai-eng-projects/project_2/data/Everstorm_*.pdf\")\n",
    "raw_docs = []\n",
    "\n",
    "# Load each PDF file using PyPDFLoader\n",
    "for pdf_path in pdf_paths:\n",
    "    loader = PyPDFLoader(pdf_path)\n",
    "    raw_docs.extend(loader.load())\n",
    "\n",
    "print(f\"Loaded {len(raw_docs)} PDF pages from {len(pdf_paths)} files.\")\n"
   ]
  },
  {
   "cell_type": "markdown",
   "id": "c69f135e",
   "metadata": {},
   "source": [
    "### (Optional) 2.1 - Load web pages\n",
    "You can also pull content straight from the web. Various libraries support reading and parsing web pages directly into text, which is useful for building custom knowledge bases. One example is **UnstructuredURLLoader** from LangChain, which can extract readable content from raw HTML pages and return them in a structured format. To learn more, see: https://python.langchain.com/api_reference/community/document_loaders/langchain_community.document_loaders.url.UnstructuredURLLoader.html\n",
    "\n",
    "To practice, load each HTML page below and store the results in a list called `raw_docs`. We’ve included a few sample URLs, but you can replace them with any links you prefer.\n",
    "\n",
    "For robustness, add an offline fallback in case a URL fails. In real projects, we typically cache fetched pages to disk, handle rate limits, and track fetch timestamps so content can be refreshed periodically without relying on live network calls during development. For this project, we don’t have offline HTML copies available, but you can still practice by loading any PDFs from the data/ folder using PyPDFLoader and appending them to raw_docs."
   ]
  },
  {
   "cell_type": "code",
   "execution_count": 23,
   "id": "65abec32",
   "metadata": {},
   "outputs": [
    {
     "name": "stderr",
     "output_type": "stream",
     "text": [
      "Ignoring wrong pointing object 76 0 (offset 0)\n"
     ]
    },
    {
     "name": "stdout",
     "output_type": "stream",
     "text": [
      "⚠️  Web fetch failed, using offline copies: No module named 'langchain_community.document_loaders.web_url_loader'\n"
     ]
    },
    {
     "name": "stderr",
     "output_type": "stream",
     "text": [
      "Ignoring wrong pointing object 81 0 (offset 0)\n",
      "Ignoring wrong pointing object 80 0 (offset 0)\n"
     ]
    },
    {
     "name": "stdout",
     "output_type": "stream",
     "text": [
      "Loaded 8 offline documents.\n"
     ]
    }
   ],
   "source": [
    "URLS = [\n",
    "    # --- BigCommerce – shipping & refunds ---\n",
    "    \"https://developer.bigcommerce.com/docs/store-operations/shipping\",\n",
    "    \"https://developer.bigcommerce.com/docs/store-operations/orders/refunds\",\n",
    "    # --- Stripe – disputes & chargebacks ---\n",
    "    # \"https://docs.stripe.com/disputes\",  \n",
    "    # --- WooCommerce – REST API reference ---\n",
    "    # \"https://woocommerce.github.io/woocommerce-rest-api-docs/v3.html\",\n",
    "]\n",
    "\n",
    "try:\n",
    "    # Load web pages using UnstructuredURLLoader\n",
    "    from langchain_community.document_loaders.web_url_loader import WebURLLoader\n",
    "\n",
    "    loader = WebURLLoader(urls=URLS)\n",
    "    # loader = UnstructuredURLLoader(urls=URLS)\n",
    "    raw_docs.extend(loader.load())\n",
    "    print(f\"Fetched {len(raw_docs)} documents from the web.\")\n",
    "except Exception as e:\n",
    "    print(\"⚠️  Web fetch failed, using offline copies:\", e)\n",
    "    raw_docs = []\n",
    "    # Load PDFs as offline fallback using PyPDFLoader\n",
    "    pdf_paths = glob.glob(\"data/Everstorm_*.pdf\")\n",
    "    for pdf_path in pdf_paths:\n",
    "        loader = PyPDFLoader(pdf_path)\n",
    "        raw_docs.extend(loader.load())\n",
    "    print(f\"Loaded {len(raw_docs)} offline documents.\")"
   ]
  },
  {
   "cell_type": "code",
   "execution_count": 24,
   "id": "62b9c15e",
   "metadata": {},
   "outputs": [
    {
     "data": {
      "text/plain": [
       "[Document(metadata={'producer': 'Skia/PDF m138 Google Docs Renderer', 'creator': 'PyPDF', 'creationdate': '', 'title': 'Payment_refund_and_security', 'source': 'data\\\\Everstorm_Payment_refund_and_security.pdf', 'total_pages': 2, 'page': 0, 'page_label': '1'}, page_content='FAQs  \\n Which  payment  methods  do  you  accept?   Visa,  MasterCard,  AmEx,  Discover,  Apple  Pay,  Google  Pay,  PayPal,  Shop  Pay.  Installments  (US  \\nonly),\\n \\nKlarna\\n \\nPay-in-4\\n \\n(selected\\n \\nEU\\n \\ncountries).\\n  What  is  3-D  Secure  and  why  did  I  see  a  pop-up?    3-D  Secure  (also  “Verified  by  Visa”  /  “Mastercard  Identity  Check”)  adds  an  extra  one-time  code  \\nfor\\n \\nEU\\n \\nPSD2\\n \\ncompliance.\\n \\nYour\\n \\nbank\\n \\ncontrols\\n \\nthat\\n \\npop-up.\\n  Is  my  data  safe?   All  checkout  traffic  uses  TLS  1.3.  We  never  store  full  card  numbers.  Our  store  is  Level  1  \\nPCI-DSS\\n \\ncompliant.\\n  How  long  do  refunds  take?    We  issue  refunds  the  same  day  your  return  is  scanned.  Banks  typically  post  credit  within:    ●  Card:  5-7  banking  days  ●  PayPal:  immediate  ●  Klarna:  2-5  days    Shop  Pay  Installments  voids  remaining  payments  or  refunds  for  completed  ones.   Where’s  my  Klarna  statement?    Klarna  emails  the  payment  schedule  shortly  after  order  confirmation.  If  not  received,  log  in  at  \\nklarna.com\\n \\nor\\n \\ntheir\\n \\nmobile\\n \\napp.\\n  Why  was  my  card  declined?    Common  reasons:  ZIP  mismatch,  CVV  typo,  foreign  card  blocked  for  cross-border.  Retry  or  call  \\nyour\\n \\nbank;\\n \\nwe\\n \\ncannot\\n \\noverride\\n \\ndeclines.\\n  Do  you  charge  sales  tax?    Yes.  calculated  automatically  in  42  US  states  +  DC  and  applicable  provinces.    Can  I  split  the  payment  across  cards?    Not  at  checkout,  but  buy  a  digital  gift  card  first,  then  apply  it  and  pay  the  balance  with  the  \\nsecond\\n \\ncard.\\n  Crypto  payments?   We  accept  USDC  on  Ethereum  Mainnet  for  orders  above  $500.  Choose  “Coinbase  Commerce”  \\nat\\n \\ncheckout;\\n \\nrate\\n \\nlocked\\n \\nfor\\n \\n15\\n \\nmin.\\n  Need  more  help?  billing@everstorm.example'),\n",
       " Document(metadata={'producer': 'Skia/PDF m138 Google Docs Renderer', 'creator': 'PyPDF', 'creationdate': '', 'title': 'Payment_refund_and_security', 'source': 'data\\\\Everstorm_Payment_refund_and_security.pdf', 'total_pages': 2, 'page': 1, 'page_label': '2'}, page_content=''),\n",
       " Document(metadata={'producer': 'Skia/PDF m138 Google Docs Renderer', 'creator': 'PyPDF', 'creationdate': '', 'title': 'Product_sizing_and_care_guide', 'source': 'data\\\\Everstorm_Product_sizing_and_care_guide.pdf', 'total_pages': 2, 'page': 0, 'page_label': '1'}, page_content='Everstorm  Outfitters    PRODUCT  SIZING  &  CARE  GUIDE    Rev  2.1  —  18  May  2025   A\\u2002Apparel  Size  Charts  (inches)   |  Unisex  Tee  |  Chest  |  Body  Length  |  |------------|-------|-------------|  |  XS          |  34     |  27           |  |  S           |  36     |  28           |  |  M           |  40     |  29           |  |  L           |  44     |  30           |  |  XL          |  48     |  31           |  |  XXL         |  52     |  32           |   Fit  note:  Tees  are  athletic-cut;  size  up  for  a  relaxed  fit.   B\\u2002Outerwear  Measurements   |  Jacket  Size  |  Chest  (in)  |  Sleeve  (from  center  back)  |  |-------------|-----------|---------------------------|  |  S            |  37–39      |  33                         |  |  M            |  39–42      |  34                         |  |  L            |  42–45      |  35                         |  |  XL           |  45–48      |  36                         |   C\\u2002Footwear  Conversion   |  US  Men  |  US  Women  |  EU   |  UK  |  |--------|----------|-----|----|  |  7       |  8.5       |  40   |  6   |  |  8       |  9.5       |  41   |  7   |  |  9       |  10.5      |  42   |  8   |  |  10      |  11.5      |  43   |  9   |  |  11      |  12.5      |  44.5|  10  |   D\\u2002Fabric  Glossary    •  **Merino  200**  —  200  g/m²  18.9  µm  wool,  odor-resistant,  machine-wash  cold.    •  **Trail-Stretch™**  —  92  %  recycled  nylon,  8  %  spandex,  DWR  coated.    •  **StormCell-3L**  —  3-layer  waterproof/breathable  (20  k  /  20  k).   E\\u2002Care  Instructions  by  Category   |  Item  Type  |  Wash  |  Dry  |  Iron  |  Notes  |'),\n",
       " Document(metadata={'producer': 'Skia/PDF m138 Google Docs Renderer', 'creator': 'PyPDF', 'creationdate': '', 'title': 'Product_sizing_and_care_guide', 'source': 'data\\\\Everstorm_Product_sizing_and_care_guide.pdf', 'total_pages': 2, 'page': 1, 'page_label': '2'}, page_content='|-----------|------|-----|------|-------|  |  Merino  base  layer  |  Cold  gentle,  wool-safe  detergent  |  Flat  dry  |  Low  |  Avoid  fabric  softener  |  |  DWR  shell  |  Machine  cold,  no  powder  soap  |  Tumble  low  10  min,  then  hang  |  N/A  |  Re-spray  \\nDWR\\n \\nevery\\n \\n10\\n \\nwashes\\n \\n|\\n |  Canvas  pack  |  Hand-wipe  mild  soap  |  Air  |  N/A  |  Remove  frame  sheet  first  |  |  Leather  boots  |  Brush  dirt  dry;  damp  cloth  |  Air  |  N/A  |  Condition  every  3  months  |   F\\u2002DIY  Repair  Tips    •  Seam  separation  ≤  3  cm  →  clean  area,  apply  Gear-Aid  SeamGrip,  24  h  cure.    •  Missing  jacket  snap  →  email  parts@everstorm.example  for  snap-kit  (free).    •  Boot  lace  break  →  63  in  paracord  replacement,  tie  surgeon’s  knot.   G\\u2002Lifetime  Repair  Credit    We  partner  with  **Renew  Workshop**.  Submit  a  ticket  for  a  prepaid  label;  receive  store  credit  equal  to  repair  cost  if  you  opt  to  buy  new  instead  of  repairing.   Questions?  sizecare@everstorm.example'),\n",
       " Document(metadata={'producer': 'Skia/PDF m138 Google Docs Renderer', 'creator': 'PyPDF', 'creationdate': '', 'title': 'Return_and_exchange_policy', 'source': 'data\\\\Everstorm_Return_and_exchange_policy.pdf', 'total_pages': 2, 'page': 0, 'page_label': '1'}, page_content='Everstorm  Outfitters    RETURN  &  EXCHANGE  POLICY    Document  ROX-2025-05   Easy-Fit  Promise    If  your  gear  doesn’t  fit  or  just  isn’t  your  vibe,  send  it  back  within  **30  days**  of  delivery  for  a  refund  or  free  size  exchange.   Eligibility  Checklist    ●  Unworn,  unwashed,  no  odors,  tags  attached    ●  Original  shoe  box  (footwear)  placed  inside  outer  carton    ●  Electronics  (power-banks,  headlamps)  unopened  unless  faulty   How  to  Start    ●  Visit  everstorm.example/returns  →  enter  order  #  and  email.    ●  Select  “Refund”  or  “Exchange.”    ●  Print  prepaid  label;  pack  securely.  Multiple  items  can  share  one  box.   Instant  Exchange  Hold    We  place  a  temporary  $1  authorization  on  your  card  and  ship  the  new  size  once  the  carrier  scans  the  return  label.  Authorization  drops  when  our  returns  team  receives  the  original  item.   Return  Window  Exceptions    ●  Holiday  gift  purchases  made  1  Nov  –  31  Dec:  return  period  extended  to  31  Jan.    ●  “Final  Sale”  and  custom-embroidered  items:  no  return  unless  defective.   Refund  Timeline    ●  Warehouse  receipt  →  inspection  ≤  3  business  days  →  refund  initiates.    ●  Stripe  /  Apple  Pay  5-7  banking  days;  PayPal  instant;  Shop-Pay  up  to  10.   Defect  &  Warranty  Claims  (12  months)    ●  Manufacturing  defects  (seam  failure,  sole  separation,  zipper  loss)  are  covered  ●  for  one  year.  Choose  **“Warranty  Claim”**  in  the  portal—upload  3  photos  showing  ●  the  defect.  Approved  claims  ship  replacement  next  business  day.   Footwear  Fit  Exchange  Matrix   |  Current  Size  |  Return  Label  Cost  |  Replacement  Ships  |  Notes  |  |--------------|------------------|-------------------|-------|  |  Too  small     |  Free              |  +0.5  US  size       |  Width  unchanged  |  |  Too  large     |  Free              |  –0.5  US  size       |  EU  size  per  chart  |   Gift  Returns'),\n",
       " Document(metadata={'producer': 'Skia/PDF m138 Google Docs Renderer', 'creator': 'PyPDF', 'creationdate': '', 'title': 'Return_and_exchange_policy', 'source': 'data\\\\Everstorm_Return_and_exchange_policy.pdf', 'total_pages': 2, 'page': 1, 'page_label': '2'}, page_content='Gifts  return  for  **store  credit**  emailed  to  the  recipient;  original  purchaser  is  not  notified.   International  Returns    ●  Label  cost  is  deducted  from  refund  (approx.  $15–$25).  Duties  &  taxes  are  ●  non-refundable—claim  with  your  local  customs  office.   Unauthorized  /  Heavily  Worn  Items    ●  Items  showing  heavy  wear  (mud,  pet  hair,  smoke)  will  be  shipped  back  or  ●  donated  to  charity  at  our  discretion  minus  a  $15  handling  fee.   12\\u2002Contact    ●  returns@everstorm.example\\u2002•\\u2002Photo  hotline  +1  (406)  555-0188'),\n",
       " Document(metadata={'producer': 'Skia/PDF m138 Google Docs Renderer', 'creator': 'PyPDF', 'creationdate': '', 'title': 'Shipping_and_Delivery_Policy', 'source': 'data\\\\Everstorm_Shipping_and_Delivery_Policy.pdf', 'total_pages': 2, 'page': 0, 'page_label': '1'}, page_content='Everstorm  Outfitters    SHIPPING  &  DELIVERY  POLICY    Revision  4.0  —  Effective  18  May  2025   1\\u2002Who  We  Ship  To    •  United  States,  Canada,  EU/EEA,  UK,  Australia,  New  Zealand,  Japan,  Singapore    •  No  PO  boxes,  freight  forwarders,  or  sanctioned  destinations  (OFAC  list).   2\\u2002Fulfilment  Centers    •  Reno,  NV  (US  West)\\u2003•  Harrisburg,  PA  (US  East)\\u2003•  Rotterdam,  NL  (EU)    Orders  route  automatically  to  the  closest  node  with  stock.   3\\u2002Processing  Times    Mon–Fri  orders  placed  before  14:00  local  warehouse  time  ship  the  same  day.    Weekend  orders  ship  Monday,  except  public  holidays.   4\\u2002Service  Levels  &  Transit  Targets   |  Region        |  Standard  (Business  Days)  |  Expedited  |  Carrier  |  |--------------|--------------------------|-----------|---------|  |  West  Coast  US|  2  –  3                     |  1          |  UPS  Ground  /  Air  Saver  |  |  Midwest  /  TX  |  3  –  4                     |  2          |  UPS  Ground  /  2-Day  Air  |  |  East  Coast  US|  4  –  5                     |  2          |  UPS  Ground  /  2-Day  Air  |  |  Canada        |  5  –  8                     |  3          |  DHL  Express  /  Canada  Post  |  |  EU,  UK        |  5  –  8                     |  3          |  DHL  Express  /  DPD  |  |  AU  /  NZ       |  7  –  10                    |  4          |  FedEx  Int’l  Priority  |  |  Japan  /  SG    |  4  –  6                     |  2          |  DHL  Express  |   5\\u2002Shipping  Rates  (USD)   |  Basket  Total  |  USA  Std  |  USA  Exp  |  Canada  Std  |  EU  Std*  |  |--------------|---------|---------|------------|---------|  |  <$75          |  7.95     |  live-rate|  14.95      |  €9.95    |  |  ≥$75          |  **FREE**|  live-rate|  **FREE**   |  **FREE**|  \\\\*EU  standard  ships  DDP  (duties  paid).  Other  regions  ship  DDU  (duties  unpaid).   6\\u2002Order  Tracking    A  tracking  link  is  emailed  upon  label  creation.  Status  updates  may  take  up  to  12  h  to  appear  after  the  parcel  is  scanned  at  origin  terminal.   7\\u2002Changing  Your  Address    Contact  logistics@everstorm.example  within  30  min  of  order  placement.  Once  the  parcel  is  “Manifested,”  we  can  no  longer  reroute.'),\n",
       " Document(metadata={'producer': 'Skia/PDF m138 Google Docs Renderer', 'creator': 'PyPDF', 'creationdate': '', 'title': 'Shipping_and_Delivery_Policy', 'source': 'data\\\\Everstorm_Shipping_and_Delivery_Policy.pdf', 'total_pages': 2, 'page': 1, 'page_label': '2'}, page_content='8\\u2002Lost,  Stolen,  or  Damaged  Parcels    a)  Marked  “Delivered”  but  not  received  →  wait  24  h;  check  neighbors;  then  email  claims@everstorm.example.    b)  No  tracking  movement  for  7  days  (domestic)  /  14  days  (international)  →  we  open  a  carrier  trace.    c)  Visible  transit  damage  →  photograph  box  before  unsealing;  attach  pictures  to  claim  email.   9\\u2002Weather  &  Force  Majeure    Extreme  weather  may  extend  transit  times  beyond  the  targets  above.  Everstorm  is  not  liable  for  carrier  delays  due  to  natural  disasters  but  will  refund  paid  expedited  fees  if  delivery  misses  the  expedited  commitment  by  >24  h.   10\\u2002Holiday  Shipping  Cut-offs  (2025)    •  Hanukkah  /  Christmas  Eve  delivery,  U.S.  Standard  →  order  by  13  Dec  14:00  PT    •  U.S.  Expedited  →  order  by  20  Dec  14:00  PT    •  International  Express  →  order  by  15  Dec  14:00  PT   11\\u2002Contact    logistics@everstorm.example\\u2002•\\u2002+1  (406)  555-0199\\u2002•\\u2002Live  chat  08:00–18:00  MT')]"
      ]
     },
     "execution_count": 24,
     "metadata": {},
     "output_type": "execute_result"
    }
   ],
   "source": [
    "raw_docs"
   ]
  },
  {
   "cell_type": "markdown",
   "id": "c0ac4490",
   "metadata": {},
   "source": [
    "### 2.2 - Chunk the text"
   ]
  },
  {
   "cell_type": "markdown",
   "id": "9c242e44",
   "metadata": {},
   "source": [
    "Long documents won’t work well directly with most LLMs. They can easily exceed the model’s context window, making it impossible for the model to read or reason over the full text at once. Even if they fit, processing long inputs can be inefficient and lead to weaker retrieval results.\n",
    "\n",
    "To handle this, we split large documents into smaller, overlapping chunks. Several libraries can help with text splitting, each designed to preserve structure or balance chunk size. A popular choice is `RecursiveCharacterTextSplitter` from LangChain, which splits text intelligently while keeping paragraph or sentence boundaries intact. To familiarize youself with the library, visit: https://python.langchain.com/api_reference/text_splitters/character/langchain_text_splitters.character.RecursiveCharacterTextSplitter.html\n",
    "\n",
    "In this project, we’ll split each document into chunks of roughly 300 tokens with a 30-token overlap using `RecursiveCharacterTextSplitter`. This overlap helps maintain continuity across chunks while ensuring each piece stays small enough for embedding and retrieval."
   ]
  },
  {
   "cell_type": "code",
   "execution_count": 25,
   "id": "b559caf7",
   "metadata": {},
   "outputs": [
    {
     "name": "stdout",
     "output_type": "stream",
     "text": [
      "✅ 42 chunks ready for embedding\n"
     ]
    }
   ],
   "source": [
    "# Create text splitter with 300 token chunks and 30 token overlap\n",
    "text_splitter = RecursiveCharacterTextSplitter(chunk_size=300, chunk_overlap=30)\n",
    "chunks = text_splitter.split_documents(raw_docs)\n",
    "\n",
    "print(f\"✅ {len(chunks)} chunks ready for embedding\")\n"
   ]
  },
  {
   "cell_type": "code",
   "execution_count": 28,
   "id": "50d86c84",
   "metadata": {},
   "outputs": [
    {
     "data": {
      "text/plain": [
       "Document(metadata={'producer': 'Skia/PDF m138 Google Docs Renderer', 'creator': 'PyPDF', 'creationdate': '', 'title': 'Payment_refund_and_security', 'source': 'data\\\\Everstorm_Payment_refund_and_security.pdf', 'total_pages': 2, 'page': 0, 'page_label': '1'}, page_content='FAQs  \\n Which  payment  methods  do  you  accept?   Visa,  MasterCard,  AmEx,  Discover,  Apple  Pay,  Google  Pay,  PayPal,  Shop  Pay.  Installments  (US  \\nonly),\\n \\nKlarna\\n \\nPay-in-4\\n \\n(selected\\n \\nEU\\n \\ncountries).')"
      ]
     },
     "execution_count": 28,
     "metadata": {},
     "output_type": "execute_result"
    }
   ],
   "source": [
    "chunks[0]"
   ]
  },
  {
   "cell_type": "markdown",
   "id": "d89e6213",
   "metadata": {},
   "source": [
    "## 3 -Build a retriever\n",
    "\n",
    "A *retriever* lets the RAG pipeline efficiently look up small, relevant pieces of context at query‑time. This step has two parts:\n",
    "1. **Load a model to generate embeddings**: convert each text chunk from the reference documents into a fixed‑length vector that captures its semantic meaning.  \n",
    "2. **Build vector database**: store these embeddings in a vector database.\n"
   ]
  },
  {
   "cell_type": "markdown",
   "id": "c90db2d2",
   "metadata": {},
   "source": [
    "### 3.1 - Load a model to generate embeddings"
   ]
  },
  {
   "cell_type": "markdown",
   "id": "da722b3b",
   "metadata": {},
   "source": [
    "The goal of this step is to convert each document chunk into a numerical vector (an embedding) that captures its semantic meaning. These embeddings allow our retriever to find and compare similar pieces of text efficiently.\n",
    "\n",
    "There are models trained specifically for this purpose, called embedding models. One popular example is OpenAI’s `text-embedding-3-small`, which produces high-quality embeddings that work well for retrieval and semantic search.\n",
    "\n",
    "If you prefer running everything locally, you can use smaller open-source models such as `gte-small` (77 M parameters). These local models load quickly, don’t require internet access, and are ideal for experimentation or environments without API access. However, they’re typically less powerful than hosted models.\n",
    "\n",
    "Alternatively, you can connect to an API service to access stronger models like OpenAI’s. These require setting an API key (for example, OPENAI_API_KEY) in your environment. OpenAI allows you to create a free account and sometimes offers limited trial credits for new users, but ongoing access requires a billing setup. \n",
    "\n",
    "In this exercise, we’ll stick to the smaller gte-small model for simplicity and reproducibility. We'll use our imported `SentenceTransformerEmbeddings` library to load the model and use it to embed queries. To learn more about lagnchain's embedding support, visit: https://python.langchain.com/docs/integrations/text_embedding/"
   ]
  },
  {
   "cell_type": "code",
   "execution_count": 29,
   "id": "73c6961e",
   "metadata": {},
   "outputs": [
    {
     "name": "stdout",
     "output_type": "stream",
     "text": [
      "384\n"
     ]
    }
   ],
   "source": [
    "# Embed the sentence \"Hello world!\" and store it in an embedding_vector.\n",
    "from langchain_community.embeddings import HuggingFaceInstructEmbeddings\n",
    "\n",
    "embeddings = SentenceTransformerEmbeddings(model_name=\"all-MiniLM-L6-v2\")\n",
    "embedding_vector = embeddings.embed_query(\"Hello world!\")\n",
    "\n",
    "print(len(embedding_vector))\n"
   ]
  },
  {
   "cell_type": "code",
   "execution_count": 7,
   "id": "4a222122",
   "metadata": {},
   "outputs": [],
   "source": [
    "# embedding_vector = []\n",
    "\n",
    "# # Embed the sentence \"Hello world! and store it in an embedding_vector.\n",
    "# \"\"\"\n",
    "# YOUR CODE HERE (~2 lines of code)\n",
    "# \"\"\"\n",
    "# print(len(embedding_vector))"
   ]
  },
  {
   "cell_type": "markdown",
   "id": "cebdae3d",
   "metadata": {},
   "source": [
    "### 3.2 - Build a vector database\n",
    "\n",
    "Once we have embeddings, we need a way to store and search them efficiently. A simple list wouldn’t scale well, especially when we have thousands of chunks and need to quickly find the most relevant ones.\n",
    "\n",
    "To solve this, we use **FAISS**, an open-source similarity search library developed by Meta. FAISS is optimized for fast nearest-neighbor search in high-dimensional spaces, making it ideal for tasks like semantic retrieval and recommendation. It’s strongly encouraged to visit their quickstart guide to understand how FAISS works and how to use it effectively: https://github.com/facebookresearch/faiss/wiki/getting-started\n",
    "\n",
    "In this step, we’ll feed all our document embeddings into FAISS, which builds an in-memory vector index. This index allows us to efficiently query for the *k* most similar chunks to any given question.\n",
    "\n",
    "During inference, we’ll use this index to retrieve the top-k relevant chunks and pass them to the LLM as context, enabling it to answer questions grounded in our documents.\n",
    "\n"
   ]
  },
  {
   "cell_type": "code",
   "execution_count": 7,
   "id": "611eda64",
   "metadata": {},
   "outputs": [
    {
     "name": "stdout",
     "output_type": "stream",
     "text": [
      "✅ Vector store with 93 embeddings\n"
     ]
    }
   ],
   "source": [
    "# Expected steps:\n",
    "    # 1. Build the FAISS index from the list of document chunks and their embeddings.\n",
    "    # 2. Create a retriever object with a suitable k value (e.g., 8).\n",
    "    # 3. Save the vector store locally (e.g., under \"faiss_index\").\n",
    "    # 4. Print a short confirmation showing how many embeddings were stored.\n",
    "\n",
    "# \"\"\"\n",
    "# YOUR CODE HERE (~3-5 lines of code)\n",
    "# \"\"\"\n",
    "\n",
    "# print(\"✅ Vector store with\", vectordb.index.ntotal, \"embeddings\")\n",
    "\n",
    "# Build FAISS vector store from document chunks\n",
    "vectordb = FAISS.from_documents(documents=chunks, embedding=embeddings)\n",
    "\n",
    "# Create retriever with k=8 (retrieve top 8 most similar chunks)\n",
    "retriever = vectordb.as_retriever(search_kwargs={\"k\": 8})\n",
    "\n",
    "# Save the vector store locally\n",
    "vectordb.save_local(\"faiss_index\")\n",
    "\n",
    "print(\"✅ Vector store with\", vectordb.index.ntotal, \"embeddings\")\n"
   ]
  },
  {
   "cell_type": "code",
   "execution_count": 8,
   "id": "b68b684b",
   "metadata": {},
   "outputs": [
    {
     "data": {
      "text/plain": [
       "<langchain_community.vectorstores.faiss.FAISS at 0x236383b7c50>"
      ]
     },
     "execution_count": 8,
     "metadata": {},
     "output_type": "execute_result"
    }
   ],
   "source": [
    "vectordb"
   ]
  },
  {
   "cell_type": "markdown",
   "id": "c456f820",
   "metadata": {},
   "source": [
    "## 4 - Build the generation engine\n",
    "At the core of any RAG system lies an **LLM**. The retriever finds relevant information, and the LLM uses that information to generate coherent, context-aware responses.\n",
    "\n",
    "In this project, we’ll use **Gemma 3* (1B), a small but capable open-weight model, and run it entirely on your local machine using Ollama. This means you won’t need API keys or internet access to generate responses once the model is downloaded.\n",
    "\n",
    "**What is Ollama?**\n",
    "\n",
    "Ollama is a lightweight runtime for managing and serving open-weight LLMs locally. It provides:\n",
    "* A simple REST API running at localhost:11434, so your code can interact with the model via standard HTTP calls.\n",
    "* A model registry and command-line tool** to pull, run, and manage models easily.\n",
    "* Support for a wide variety of models (e.g., Gemma, Llama, Mistral, Phi, etc.), making it ideal for experimentation.\n",
    "\n",
    "To learn more about Ollama, visit: https://github.com/ollama/ollama. You can browse all supported models and their sizes here: https://ollama.com/library\n",
    "\n",
    "\n",
    "### 4.1 - Install `ollama` and serve `gemma3`\n",
    "\n",
    "Follow these steps to set up Ollama and start the model server:\n",
    "\n",
    "**1 - Install**\n",
    "```bash\n",
    "# macOS (Homebrew)\n",
    "brew install ollama\n",
    "# Linux\n",
    "curl -fsSL https://ollama.com/install.sh | sh\n",
    "```\n",
    "\n",
    "If you’re on Windows, install using the official installer from https://ollama.com/download.\n",
    "\n",
    "**2 - Start the Ollama server (keep this terminal open)**\n",
    "```bash\n",
    "ollama serve\n",
    "```\n",
    "This command launches a local server at http://localhost:11434, which will stay running in the background.\n",
    "\n",
    "\n",
    "**3 - Pull the Gemma mode (or the model of your choice) in a new terminal**\n",
    "```bash\n",
    "ollama pull gemma3:1b\n",
    "```\n",
    "\n",
    "This downloads the 1B version of Gemma 3, a compact model suitable for running on most modern laptops. Once downloaded, Ollama will automatically handle model loading and caching.\n",
    "\n",
    "\n",
    "After this setup, your system is ready to generate responses locally using the Gemma model through the Ollama API.\n"
   ]
  },
  {
   "cell_type": "markdown",
   "id": "bba7e203",
   "metadata": {},
   "source": [
    "### 4.2 - Test an LLM with a random prompt (Sanity check)\n"
   ]
  },
  {
   "cell_type": "code",
   "execution_count": 10,
   "id": "7709d8f0",
   "metadata": {},
   "outputs": [
    {
     "name": "stdout",
     "output_type": "stream",
     "text": [
      "The capital of India is **New Delhi**. \n",
      "\n",
      "It’s officially known as New Delhi, but it’s often referred to as the capital. \n",
      "\n",
      "\n"
     ]
    }
   ],
   "source": [
    "# Expected steps:\n",
    "    # 1. Initialize the model (for example, gemma3:1b) with a low temperature such as 0.1 for more factual outputs.\n",
    "    # 2. Use llm.invoke() with a short test prompt and print the response to verify that the model runs successfully.\n",
    "\n",
    "# from langchain_ollama import OllamaLLM\n",
    "# Initialize the Gemma3 model with low temperature for factual outputs\n",
    "llm = Ollama(model=\"gemma3:1b\", temperature=0.1)\n",
    "\n",
    "# Test the model with a simple prompt\n",
    "response = llm.invoke(\"What is the capital of India?\")\n",
    "print(response)"
   ]
  },
  {
   "cell_type": "markdown",
   "id": "6556263d",
   "metadata": {},
   "source": [
    "## Build a RAG"
   ]
  },
  {
   "cell_type": "markdown",
   "id": "3dbfec15",
   "metadata": {},
   "source": [
    "### 5.1 - Define a system prompt"
   ]
  },
  {
   "cell_type": "markdown",
   "id": "66b5c84b",
   "metadata": {},
   "source": [
    "At this stage, we need to tell the model how to behave when generating answers. The **system prompt** acts as the model’s rulebook. It should clearly instruct the model to answer only using the retrieved context and to admit when it doesn’t know the answer. This helps prevent hallucination and keeps the responses grounded in the provided documents.\n",
    "\n",
    "In general, a good RAG prompt emphasizes three things: stay within context, stay factual, and stay concise. This is important because RAG works by grounding the LLM in retrieved text. If the prompt is vague, the model may invent details. A precise system prompt reduces hallucinations and keeps answers aligned with your corpus."
   ]
  },
  {
   "cell_type": "code",
   "execution_count": 11,
   "id": "dcecb2b6",
   "metadata": {},
   "outputs": [],
   "source": [
    "# SYSTEM_TEMPLATE = \"\"\"\n",
    "# You are a **Customer Support Chatbot**. Use only the information in CONTEXT to answer.\n",
    "# If the answer is not in CONTEXT, respond with “I'm not sure from the docs.”\n",
    "\n",
    "# Rules:\n",
    "# 1) Use ONLY the provided <context> to answer.\n",
    "# 2) If the answer is not in the context, say: \"I don't know based on the retrieved documents.\"\n",
    "# 3) Be concise and accurate. Prefer quoting key phrases from the context.\n",
    "# 4) When possible, cite sources as [source: {source}] using the metadata.\n",
    "\n",
    "# CONTEXT:\n",
    "# {context}\n",
    "\n",
    "# USER:\n",
    "# {question}\n",
    "# \"\"\"\n",
    "\n",
    "SYSTEM_TEMPLATE = \"\"\"\n",
    "You are a **Customer Support Chatbot**. Use only the information in CONTEXT to answer.\n",
    "If the answer is not in CONTEXT, respond with “I'm not sure from the docs.”\n",
    "\n",
    "Rules:\n",
    "1) Use ONLY the provided <context> to answer.\n",
    "2) If the answer is not in the context, say: \"I don't know based on the retrieved documents.\"\n",
    "3) Be concise and accurate. Prefer quoting key phrases from the context.\n",
    "\n",
    "CONTEXT:\n",
    "{context}\n",
    "\n",
    "USER:\n",
    "{question}\n",
    "\"\"\""
   ]
  },
  {
   "cell_type": "markdown",
   "id": "de27cc9a",
   "metadata": {},
   "source": [
    "### 5.2 Create a RAG chain\n",
    "Now that we have a retriever, a prompt, and a language model, we can connect them into a single RAG pipeline. The retriever finds the most relevant chunks from our vector index, the prompt injects those chunks into the system message, and the LLM uses that context to produce the final answer. (retriever → prompt → model)\n",
    "\n",
    "This connection is handled through LangChain’s `ConversationalRetrievalChain`, which combines retrieval and generation. To familiarize yourself with the library, visit: https://python.langchain.com/api_reference/langchain/chains/langchain.chains.conversational_retrieval.base.ConversationalRetrievalChain.html"
   ]
  },
  {
   "cell_type": "code",
   "execution_count": 13,
   "id": "265042f4",
   "metadata": {},
   "outputs": [
    {
     "name": "stdout",
     "output_type": "stream",
     "text": [
      "✅ RAG chain created successfully!\n"
     ]
    }
   ],
   "source": [
    "# Expected steps:\n",
    "    # 1. Create a PromptTemplate that uses the SYSTEM_TEMPLATE you defined earlier, with input variables for \"context\" and \"question\".\n",
    "    # 2. Initialize your LLM using Ollama with the gemma3:1b model and a low temperature (e.g., 0.1) for reliable, grounded responses.\n",
    "    # 3. Build a ConversationalRetrievalChain by combining the LLM, the retriever, and your custom prompt and name it \"chain\".\n",
    "\n",
    "prompt = PromptTemplate(template=SYSTEM_TEMPLATE, input_variables=[\"context\", \"question\"])\n",
    "\n",
    "# Initialize LLM with Ollama (reuse the existing llm variable if already defined)\n",
    "if 'llm' not in locals():\n",
    "    llm = Ollama(model=\"gemma3:1b\", temperature=0.1)\n",
    "\n",
    "# Build the ConversationalRetrievalChain\n",
    "chain = ConversationalRetrievalChain.from_llm(\n",
    "    llm=llm,\n",
    "    retriever=retriever,\n",
    "    combine_docs_chain_kwargs={\"prompt\": prompt}\n",
    ")\n",
    "\n",
    "print(\"✅ RAG chain created successfully!\")\n"
   ]
  },
  {
   "cell_type": "markdown",
   "id": "64a6c7fc",
   "metadata": {},
   "source": [
    "When you ask a question, the retriever pulls the top few relevant text chunks, the model reads them through the system prompt, and then it generates an answer based on that context.\n",
    "\n",
    "This structure makes the system transparent and easy to debug. You can inspect what text was retrieved, tune parameters like k, and experiment with different prompts to see how they affect the output quality.\n"
   ]
  },
  {
   "cell_type": "markdown",
   "id": "6c1eb44d",
   "metadata": {},
   "source": [
    "### 5.3 - Validate the RAG chain"
   ]
  },
  {
   "cell_type": "markdown",
   "id": "e5ee50de",
   "metadata": {},
   "source": [
    "We run a few questions to make sure everything behaves as expecte. Experiment by adding you own questions."
   ]
  },
  {
   "cell_type": "code",
   "execution_count": 14,
   "id": "8f6d7a7d",
   "metadata": {},
   "outputs": [
    {
     "name": "stdout",
     "output_type": "stream",
     "text": [
      "\n",
      "============================================================\n",
      "Question 1: If I'm not happy with my purchase, what is your refund policy and how do I start a return?\n",
      "============================================================\n"
     ]
    },
    {
     "name": "stderr",
     "output_type": "stream",
     "text": [
      "C:\\Users\\vraje\\AppData\\Local\\Temp\\ipykernel_36580\\1626848088.py:26: LangChainDeprecationWarning: The method `Chain.__call__` was deprecated in langchain 0.1.0 and will be removed in 1.0. Use :meth:`~invoke` instead.\n",
      "  response = chain({\"question\": question, \"chat_history\": chat_history})\n"
     ]
    },
    {
     "name": "stdout",
     "output_type": "stream",
     "text": [
      "Answer: I'm not sure from the docs.\n",
      "============================================================\n",
      "\n",
      "============================================================\n",
      "Question 2: How long will delivery take for a standard order, and where can I track my package once it ships?\n",
      "============================================================\n",
      "Answer: Delivery time for a standard order will depend on the region and the shipping method. Here’s a breakdown:\n",
      "\n",
      "*   **Standard (Business Days):**  Shipment is the same day.\n",
      "*   **Expedited:**  Shipment by 15 December 14:00 PM PT.\n",
      "*   **Carrier:**  Shipment by 20 December 14:00 PM PT.\n",
      "\n",
      "You can track your package once it ships through the Live Chat or by logging into your account at [https://www.everstorm.example](https://www.everstorm.example).\n",
      "============================================================\n",
      "\n",
      "============================================================\n",
      "Question 3: What's the quickest way to contact your support team, and what are your operating hours?\n",
      "============================================================\n",
      "Answer: You can contact support team via chat at 08:00–18:00 MT.\n",
      "============================================================\n",
      "\n",
      "✅ Successfully tested 3 questions with the RAG chain!\n"
     ]
    }
   ],
   "source": [
    "test_questions = [\n",
    "    \"If I'm not happy with my purchase, what is your refund policy and how do I start a return?\",\n",
    "    \"How long will delivery take for a standard order, and where can I track my package once it ships?\",\n",
    "    \"What's the quickest way to contact your support team, and what are your operating hours?\",\n",
    "]\n",
    "\n",
    "# Expected steps:\n",
    "    # 1. Initialize an empty chat_history list.\n",
    "    # 2. Loop through test_questions, pass each question and the current chat history to the chain, and append the new answer.\n",
    "    # 3. Print each question and the LLM's response to verify it’s working correctly.\n",
    "\n",
    "# \"\"\"\n",
    "# YOUR CODE HERE\n",
    "# \"\"\"\n",
    "\n",
    "# Initialize an empty chat history list\n",
    "chat_history = []\n",
    "\n",
    "# Loop through test questions and get responses from the RAG chain\n",
    "for i, question in enumerate(test_questions, 1):\n",
    "    print(f\"\\n{'='*60}\")\n",
    "    print(f\"Question {i}: {question}\")\n",
    "    print(f\"{'='*60}\")\n",
    "    \n",
    "    # Get response from the RAG chain\n",
    "    response = chain({\"question\": question, \"chat_history\": chat_history})\n",
    "    \n",
    "    # Print the answer\n",
    "    print(f\"Answer: {response['answer']}\")\n",
    "    \n",
    "    # Add the question and answer to chat history for context\n",
    "    chat_history.append((question, response['answer']))\n",
    "    \n",
    "    print(f\"{'='*60}\")\n",
    "\n",
    "print(f\"\\n✅ Successfully tested {len(test_questions)} questions with the RAG chain!\")\n"
   ]
  },
  {
   "cell_type": "markdown",
   "id": "86f8c6b4",
   "metadata": {},
   "source": [
    "### 6 - Build the Streamlit UI (optional)"
   ]
  },
  {
   "cell_type": "markdown",
   "id": "eecc640b",
   "metadata": {},
   "source": [
    "The goal here is to create a tiny demo so you can interact with your RAG system. The focus is not on UI design. We will build a very small interface only to demonstrate the end-to-end flow.\n",
    "\n",
    "There are many ways to make a UI. Some frameworks are powerful but take longer to set up, while others are simple and good for quick experiments. Streamlit is a common choice for fast prototyping because it lets you make a usable interface with only a few lines of Python. If you want to learn the basics, see the Streamlit Quickstart: https://docs.streamlit.io/deploy/streamlit-community-cloud/get-started/quickstart\n",
    "\n",
    "This step is optional. If it is not useful for your work, you can skip it. We will also complete this part together during the live session.\n",
    "\n",
    "In this cell, we write a minimal **`app.py`** that starts a simple chat UI and calls your RAG chain."
   ]
  },
  {
   "cell_type": "code",
   "execution_count": 33,
   "id": "04dfdf6b",
   "metadata": {},
   "outputs": [
    {
     "data": {
      "text/plain": [
       "ConversationalRetrievalChain(verbose=False, combine_docs_chain=StuffDocumentsChain(verbose=False, llm_chain=LLMChain(verbose=False, prompt=PromptTemplate(input_variables=['context', 'question'], input_types={}, partial_variables={}, template='\\nYou are a **Customer Support Chatbot**. Use only the information in CONTEXT to answer.\\nIf the answer is not in CONTEXT, respond with “I\\'m not sure from the docs.”\\n\\nRules:\\n1) Use ONLY the provided <context> to answer.\\n2) If the answer is not in the context, say: \"I don\\'t know based on the retrieved documents.\"\\n3) Be concise and accurate. Prefer quoting key phrases from the context.\\n\\nCONTEXT:\\n{context}\\n\\nUSER:\\n{question}\\n'), llm=Ollama(model='gemma3:1b', temperature=0.1), output_parser=StrOutputParser(), llm_kwargs={}), document_prompt=PromptTemplate(input_variables=['page_content'], input_types={}, partial_variables={}, template='{page_content}'), document_variable_name='context'), question_generator=LLMChain(verbose=False, prompt=PromptTemplate(input_variables=['chat_history', 'question'], input_types={}, partial_variables={}, template='Given the following conversation and a follow up question, rephrase the follow up question to be a standalone question, in its original language.\\n\\nChat History:\\n{chat_history}\\nFollow Up Input: {question}\\nStandalone question:'), llm=Ollama(model='gemma3:1b', temperature=0.1), output_parser=StrOutputParser(), llm_kwargs={}), retriever=VectorStoreRetriever(tags=['FAISS', 'HuggingFaceEmbeddings'], vectorstore=<langchain_community.vectorstores.faiss.FAISS object at 0x00000236383B7C50>, search_kwargs={'k': 8}))"
      ]
     },
     "execution_count": 33,
     "metadata": {},
     "output_type": "execute_result"
    }
   ],
   "source": [
    "globals()['chain']"
   ]
  },
  {
   "cell_type": "code",
   "execution_count": null,
   "id": "c182fb86",
   "metadata": {},
   "outputs": [
    {
     "name": "stdout",
     "output_type": "stream",
     "text": [
      "Overwriting my_app.py\n"
     ]
    }
   ],
   "source": [
    "%%writefile my_app.py\n",
    "\n",
    "import streamlit as st\n",
    "import os\n",
    "import sys\n",
    "\n",
    "def main():\n",
    "    # Add the current directory to Python path to import variables from notebook\n",
    "    sys.path.append('C:/rajesh/docs/personal/career/learning/bytebytegoAI/ai-eng-projects/project_2')\n",
    "\n",
    "    # Set page config\n",
    "    st.set_page_config(\n",
    "        page_title=\"Everstorm Customer Support Chatbot\",\n",
    "        page_icon=\"🛍️\",\n",
    "        layout=\"wide\"\n",
    "    )\n",
    "\n",
    "    # Title and description\n",
    "    st.title(\"🛍️ Everstorm Customer Support Chatbot\")\n",
    "    st.markdown(\"Ask me anything about Everstorm Outfitters policies, shipping, returns, and more!\")\n",
    "\n",
    "    print(\"Globals in my_app.py:\", globals().keys())  # Debugging line to check globals\n",
    "    \n",
    "    # Check if required variables are available\n",
    "    if 'chain' not in globals():\n",
    "        st.error(\"❌ RAG chain not found! Please run the notebook cells first to initialize the chain.\")\n",
    "        st.stop()\n",
    "\n",
    "    # Initialize session state for chat history\n",
    "    if \"messages\" not in st.session_state:\n",
    "        st.session_state.messages = []\n",
    "\n",
    "    # Display chat history\n",
    "    for message in st.session_state.messages:\n",
    "        with st.chat_message(message[\"role\"]):\n",
    "            st.markdown(message[\"content\"])\n",
    "\n",
    "    # Chat input\n",
    "    if prompt := st.chat_input(\"Ask me about Everstorm policies...\"):\n",
    "        # Add user message to chat history\n",
    "        st.session_state.messages.append({\"role\": \"user\", \"content\": prompt})\n",
    "        \n",
    "        # Display user message\n",
    "        with st.chat_message(\"user\"):\n",
    "            st.markdown(prompt)\n",
    "        \n",
    "        # Generate response\n",
    "        with st.chat_message(\"assistant\"):\n",
    "            with st.spinner(\"Thinking...\"):\n",
    "                try:\n",
    "                    # Get response from RAG chain\n",
    "                    response = chain({\"question\": prompt, \"chat_history\": []})\n",
    "                    answer = response['answer']\n",
    "                    \n",
    "                    # Display assistant response\n",
    "                    st.markdown(answer)\n",
    "                    \n",
    "                    # Add assistant response to chat history\n",
    "                    st.session_state.messages.append({\"role\": \"assistant\", \"content\": answer})\n",
    "                    \n",
    "                except Exception as e:\n",
    "                    error_msg = f\"Sorry, I encountered an error: {str(e)}\"\n",
    "                    st.error(error_msg)\n",
    "                    st.session_state.messages.append({\"role\": \"assistant\", \"content\": error_msg})\n",
    "\n",
    "    # Sidebar with information\n",
    "    with st.sidebar:\n",
    "        st.header(\"📋 About\")\n",
    "        st.markdown(\"\"\"\n",
    "        This chatbot can help you with:\n",
    "        - **Refund & Return Policies**\n",
    "        - **Shipping & Delivery Information**\n",
    "        - **Product Sizing & Care Guides**\n",
    "        - **Payment & Security Policies**\n",
    "        - **General Customer Support**\n",
    "        \"\"\")\n",
    "        \n",
    "        st.header(\"🔧 Technical Info\")\n",
    "        st.markdown(\"\"\"\n",
    "        - **Model**: Gemma3:1b (via Ollama)\n",
    "        - **Vector Store**: FAISS\n",
    "        - **Embeddings**: SentenceTransformers\n",
    "        - **Documents**: Everstorm PDFs\n",
    "        \"\"\")\n",
    "        \n",
    "        # Clear chat button\n",
    "        if st.button(\"🗑️ Clear Chat History\"):\n",
    "            st.session_state.messages = []\n",
    "            st.rerun()\n",
    "\n",
    "    # Footer\n",
    "    st.markdown(\"---\")\n",
    "    st.markdown(\"💡 **Tip**: Ask specific questions for the best results!\")\n",
    "\n",
    "if __name__ == \"__main__\":\n",
    "    main()\n",
    "\n",
    "# !cd C:/rajesh/docs/personal/career/learning/bytebytegoAI/ai-eng-projects/project_2 && streamlit run my_app.py"
   ]
  },
  {
   "cell_type": "markdown",
   "id": "04dc8ad3",
   "metadata": {},
   "source": [
    "Run `streamlit run app.py` from your terminal."
   ]
  },
  {
   "cell_type": "markdown",
   "id": "2a7328a5",
   "metadata": {},
   "source": [
    "## 🎉 Congratulations!\n",
    "\n",
    "You’ve just built, tested, and demoed a fully working **customer-support chatbot**.  \n",
    "In one project you:\n",
    "\n",
    "* **Prepared policy docs**: loaded and chunked them for fast retrieval.  \n",
    "* **Built a vector store**: created a FAISS index with text embeddings.  \n",
    "* **Plugged in an LLM**: wrapped Gemma3 with LangChain and a prompt-aware RAG chain.  \n",
    "* **Validated end-to-end**: answered refund, shipping, and contact questions with confidence.  \n",
    "\n",
    "Swap in new documents, tweak the prompt, and your store’s customers get instant, accurate answers.\n",
    "\n",
    "👏 **Great job!** Take a moment to celebrate. The skills you used here power most RAG-based chatbots you see everywhere.\n"
   ]
  },
  {
   "cell_type": "markdown",
   "id": "929eabbd",
   "metadata": {},
   "source": []
  }
 ],
 "metadata": {
  "kernelspec": {
   "display_name": "rag-chatbot",
   "language": "python",
   "name": "python3"
  },
  "language_info": {
   "codemirror_mode": {
    "name": "ipython",
    "version": 3
   },
   "file_extension": ".py",
   "mimetype": "text/x-python",
   "name": "python",
   "nbconvert_exporter": "python",
   "pygments_lexer": "ipython3",
   "version": "3.11.14"
  }
 },
 "nbformat": 4,
 "nbformat_minor": 5
}
